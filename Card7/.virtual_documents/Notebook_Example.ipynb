


print('Hello viewers') # mostra na tela


import numpy as np
import matplotlib.pylab as plt
import matplotlib


# Data for plotting
t = np.arange(0.0, 2.0, 0.01)  # vetor de tempo de 0 até 2, de 0.01 em 0.01
s = 1 + np.sin(2 * np.pi * t) # função senoidal

fig, ax = plt.subplots() # 'fig' é a figura, 'ax' são os eixos
ax.plot(t, s) # plota a curva s em função de t

ax.set(xlabel="time (s)", ylabel="voltage (mV)",  # rótulo do eixo x e y
       title="About as simple as it gets folks") # título do gráfico
ax.grid() # Adiciona a grade ao gráfico






