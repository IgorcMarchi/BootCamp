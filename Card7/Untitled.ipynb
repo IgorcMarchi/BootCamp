{
 "cells": [
  {
   "cell_type": "code",
   "execution_count": 1,
   "id": "c7baa261-2edc-4e43-91b2-bbfefefa9a79",
   "metadata": {},
   "outputs": [],
   "source": [
    "import pandas as pd"
   ]
  },
  {
   "cell_type": "code",
   "execution_count": 3,
   "id": "e0df71b5-423e-4026-a44a-db4fc41c482b",
   "metadata": {},
   "outputs": [],
   "source": [
    "ecom = pd.read_csv('Ecommerce Purchases')"
   ]
  },
  {
   "cell_type": "code",
   "execution_count": 4,
   "id": "a24087f9-6b5c-4e38-ad8e-c3734ae512e2",
   "metadata": {},
   "outputs": [],
   "source": [
    "import matplotlib.pylab as plt\n",
    "import pandas as pd\n",
    "import matplotlib"
   ]
  },
  {
   "cell_type": "code",
   "execution_count": 6,
   "id": "21e71873-9b82-44be-a9b5-c22038255cef",
   "metadata": {},
   "outputs": [
    {
     "name": "stdout",
     "output_type": "stream",
     "text": [
      "<bound method NDFrame.head of                                                 Address    Lot AM or PM  \\\n",
      "0     16629 Pace Camp Apt. 448\\r\\nAlexisborough, NE ...  46 in       PM   \n",
      "1     9374 Jasmine Spurs Suite 508\\r\\nSouth John, TN...  28 rn       PM   \n",
      "2                    Unit 0065 Box 5052\\r\\nDPO AP 27450  94 vE       PM   \n",
      "3               7780 Julia Fords\\r\\nNew Stacy, WA 45798  36 vm       PM   \n",
      "4     23012 Munoz Drive Suite 337\\r\\nNew Cynthia, TX...  20 IE       AM   \n",
      "...                                                 ...    ...      ...   \n",
      "9995    966 Castaneda Locks\\r\\nWest Juliafurt, CO 96415  92 XI       PM   \n",
      "9996  832 Curtis Dam Suite 785\\r\\nNorth Edwardburgh,...  41 JY       AM   \n",
      "9997            Unit 4434 Box 6343\\r\\nDPO AE 28026-0283  74 Zh       AM   \n",
      "9998             0096 English Rest\\r\\nRoystad, IA 12457  74 cL       PM   \n",
      "9999   40674 Barrett Stravenue\\r\\nGrimesville, WI 79682  64 Hr       AM   \n",
      "\n",
      "                                           Browser Info  \\\n",
      "0     Opera/9.56.(X11; Linux x86_64; sl-SI) Presto/2...   \n",
      "1     Opera/8.93.(Windows 98; Win 9x 4.90; en-US) Pr...   \n",
      "2     Mozilla/5.0 (compatible; MSIE 9.0; Windows NT ...   \n",
      "3     Mozilla/5.0 (Macintosh; Intel Mac OS X 10_8_0 ...   \n",
      "4     Opera/9.58.(X11; Linux x86_64; it-IT) Presto/2...   \n",
      "...                                                 ...   \n",
      "9995  Mozilla/5.0 (Windows NT 5.1) AppleWebKit/5352 ...   \n",
      "9996  Mozilla/5.0 (compatible; MSIE 9.0; Windows NT ...   \n",
      "9997  Mozilla/5.0 (Macintosh; U; Intel Mac OS X 10_7...   \n",
      "9998  Mozilla/5.0 (Macintosh; Intel Mac OS X 10_8_8;...   \n",
      "9999  Mozilla/5.0 (X11; Linux i686; rv:1.9.5.20) Gec...   \n",
      "\n",
      "                              Company       Credit Card CC Exp Date  \\\n",
      "0                     Martinez-Herman  6011929061123406       02/20   \n",
      "1     Fletcher, Richards and Whitaker  3337758169645356       11/18   \n",
      "2          Simpson, Williams and Pham      675957666125       08/19   \n",
      "3     Williams, Marshall and Buchanan  6011578504430710       02/24   \n",
      "4           Brown, Watson and Andrews  6011456623207998       10/25   \n",
      "...                               ...               ...         ...   \n",
      "9995                    Randall-Sloan   342945015358701       03/22   \n",
      "9996         Hale, Collins and Wilson   210033169205009       07/25   \n",
      "9997                     Anderson Ltd  6011539787356311       05/21   \n",
      "9998                         Cook Inc   180003348082930       11/17   \n",
      "9999                       Greene Inc  4139972901927273       02/19   \n",
      "\n",
      "      CC Security Code                  CC Provider  \\\n",
      "0                  900                 JCB 16 digit   \n",
      "1                  561                   Mastercard   \n",
      "2                  699                 JCB 16 digit   \n",
      "3                  384                     Discover   \n",
      "4                  678  Diners Club / Carte Blanche   \n",
      "...                ...                          ...   \n",
      "9995               838                 JCB 15 digit   \n",
      "9996               207                 JCB 16 digit   \n",
      "9997                 1                VISA 16 digit   \n",
      "9998               987             American Express   \n",
      "9999               302                 JCB 15 digit   \n",
      "\n",
      "                               Email                                     Job  \\\n",
      "0                  pdunlap@yahoo.com  Scientist, product/process development   \n",
      "1                 anthony41@reed.com                       Drilling engineer   \n",
      "2     amymiller@morales-harrison.com                Customer service manager   \n",
      "3        brent16@olson-robinson.info                       Drilling engineer   \n",
      "4        christopherwright@gmail.com                             Fine artist   \n",
      "...                              ...                                     ...   \n",
      "9995          iscott@wade-garner.com                              Printmaker   \n",
      "9996              mary85@hotmail.com                         Energy engineer   \n",
      "9997               tyler16@gmail.com                      Veterinary surgeon   \n",
      "9998         elizabethmoore@reid.net                Local government officer   \n",
      "9999           rachelford@vaughn.com                  Embryologist, clinical   \n",
      "\n",
      "           IP Address Language  Purchase Price  \n",
      "0     149.146.147.205       el           98.14  \n",
      "1        15.160.41.51       fr           70.73  \n",
      "2      132.207.160.22       de            0.95  \n",
      "3        30.250.74.19       es           78.04  \n",
      "4        24.140.33.94       es           77.82  \n",
      "...               ...      ...             ...  \n",
      "9995    29.73.197.114       it           82.21  \n",
      "9996   121.133.168.51       pt           25.63  \n",
      "9997    156.210.0.254       el           83.98  \n",
      "9998     55.78.26.143       es           38.84  \n",
      "9999  176.119.198.199       el           67.59  \n",
      "\n",
      "[10000 rows x 14 columns]>\n"
     ]
    }
   ],
   "source": [
    "print(ecom.head)"
   ]
  },
  {
   "cell_type": "code",
   "execution_count": null,
   "id": "9c9e2fda-025e-47b2-9cf4-27f574b55acc",
   "metadata": {},
   "outputs": [],
   "source": []
  }
 ],
 "metadata": {
  "kernelspec": {
   "display_name": "Python 3 (ipykernel)",
   "language": "python",
   "name": "python3"
  },
  "language_info": {
   "codemirror_mode": {
    "name": "ipython",
    "version": 3
   },
   "file_extension": ".py",
   "mimetype": "text/x-python",
   "name": "python",
   "nbconvert_exporter": "python",
   "pygments_lexer": "ipython3",
   "version": "3.12.7"
  }
 },
 "nbformat": 4,
 "nbformat_minor": 5
}
