{
 "cells": [
  {
   "cell_type": "markdown",
   "id": "7f348ad3-e590-46cf-a9cd-8554d4b9d4ea",
   "metadata": {},
   "source": [
    "Arrays"
   ]
  },
  {
   "cell_type": "code",
   "execution_count": 1,
   "id": "2b781075-9573-45a0-8c1c-c1e2254ed79a",
   "metadata": {},
   "outputs": [
    {
     "data": {
      "text/plain": [
       "array([1, 2, 3])"
      ]
     },
     "execution_count": 1,
     "metadata": {},
     "output_type": "execute_result"
    }
   ],
   "source": [
    "import numpy as np\n",
    "arr = np.array([1, 2, 3])\n",
    "arr"
   ]
  },
  {
   "cell_type": "code",
   "execution_count": 2,
   "id": "e7e2c769-d5a4-4bb8-98d3-ed7cf00d5d6a",
   "metadata": {},
   "outputs": [],
   "source": [
    "arr_arange = np.arange(0, 10)  # cria um array de 0 a 10"
   ]
  },
  {
   "cell_type": "code",
   "execution_count": 3,
   "id": "26b7e476-07aa-43d0-9c07-087e3e5bcafe",
   "metadata": {},
   "outputs": [
    {
     "data": {
      "text/plain": [
       "array([0, 1, 2, 3, 4, 5, 6, 7, 8, 9])"
      ]
     },
     "execution_count": 3,
     "metadata": {},
     "output_type": "execute_result"
    }
   ],
   "source": [
    "arr_arange"
   ]
  },
  {
   "cell_type": "markdown",
   "id": "b18f3f60-55d6-4bee-82f8-717154a61c14",
   "metadata": {},
   "source": [
    "Arrays especiais"
   ]
  },
  {
   "cell_type": "code",
   "execution_count": 4,
   "id": "7f0aa08b-05c6-47e9-b8d9-23e11ca2b137",
   "metadata": {},
   "outputs": [
    {
     "data": {
      "text/plain": [
       "array([0., 0., 0., 0., 0.])"
      ]
     },
     "execution_count": 4,
     "metadata": {},
     "output_type": "execute_result"
    }
   ],
   "source": [
    "np.zeros(5) # cria um array contendo x(5) zeros"
   ]
  },
  {
   "cell_type": "code",
   "execution_count": 5,
   "id": "8508c211-d83e-4bd2-9ca5-cc309b9590c4",
   "metadata": {},
   "outputs": [
    {
     "data": {
      "text/plain": [
       "array([[1., 1., 1.],\n",
       "       [1., 1., 1.],\n",
       "       [1., 1., 1.]])"
      ]
     },
     "execution_count": 5,
     "metadata": {},
     "output_type": "execute_result"
    }
   ],
   "source": [
    "np.ones((3,3)) # Cria 3 arrays contendo x(3) numeros 1."
   ]
  },
  {
   "cell_type": "code",
   "execution_count": 6,
   "id": "7925a9c0-d0c4-4988-941a-14bd115a1ffb",
   "metadata": {},
   "outputs": [
    {
     "data": {
      "text/plain": [
       "array([[1., 0., 0., 0.],\n",
       "       [0., 1., 0., 0.],\n",
       "       [0., 0., 1., 0.],\n",
       "       [0., 0., 0., 1.]])"
      ]
     },
     "execution_count": 6,
     "metadata": {},
     "output_type": "execute_result"
    }
   ],
   "source": [
    "np.eye(4) # cria uma matriz de 4 x 4, onde a matriz principal tem numero 1 e o resto zero(matriz identidade)"
   ]
  },
  {
   "cell_type": "code",
   "execution_count": 7,
   "id": "ff0e2e99-a356-488a-a408-138768d0ee38",
   "metadata": {},
   "outputs": [
    {
     "data": {
      "text/plain": [
       "array([0.  , 0.25, 0.5 , 0.75, 1.  ])"
      ]
     },
     "execution_count": 7,
     "metadata": {},
     "output_type": "execute_result"
    }
   ],
   "source": [
    "np.linspace(0, 1, 5) # Cria um array onde inicia no valor 0 e vai até o 1, dividido em 5 partes iguais"
   ]
  },
  {
   "cell_type": "markdown",
   "id": "049a47a7-cf9d-405a-8370-03e632928a62",
   "metadata": {},
   "source": [
    "Valores aleatórios"
   ]
  },
  {
   "cell_type": "code",
   "execution_count": 8,
   "id": "052aaf27-663f-4770-97c0-8ca0b32c4bf8",
   "metadata": {},
   "outputs": [
    {
     "data": {
      "text/plain": [
       "array([0.53487058, 0.74017288, 0.22450513])"
      ]
     },
     "execution_count": 8,
     "metadata": {},
     "output_type": "execute_result"
    }
   ],
   "source": [
    "np.random.rand(3) # Cria um array aleatório contendo x(3) numeros aleatórios entre 0 e 1"
   ]
  },
  {
   "cell_type": "code",
   "execution_count": 9,
   "id": "f6f9f21a-d92a-4d21-8fb8-9a544d01e28a",
   "metadata": {},
   "outputs": [
    {
     "data": {
      "text/plain": [
       "array([ 0.31276711, -0.4008803 , -0.72543232])"
      ]
     },
     "execution_count": 9,
     "metadata": {},
     "output_type": "execute_result"
    }
   ],
   "source": [
    "np.random.randn(3) # Cria um array aleatório contendo x(3) numeros que tendem a ficar perto de 0"
   ]
  },
  {
   "cell_type": "markdown",
   "id": "bf30dda4-bb85-47b1-8abe-9f5499b5c04f",
   "metadata": {},
   "source": [
    "Mudando a forma do array"
   ]
  },
  {
   "cell_type": "code",
   "execution_count": 13,
   "id": "e1d79095-091a-4453-a76d-36240b11dd82",
   "metadata": {},
   "outputs": [],
   "source": [
    "arr = np.arange(1, 13) # Cria um array que vai do 1 ao 12"
   ]
  },
  {
   "cell_type": "code",
   "execution_count": 14,
   "id": "ebabdbda-b3c8-41ed-afc0-f6e9b6a8e3cc",
   "metadata": {},
   "outputs": [
    {
     "data": {
      "text/plain": [
       "array([ 1,  2,  3,  4,  5,  6,  7,  8,  9, 10, 11, 12])"
      ]
     },
     "execution_count": 14,
     "metadata": {},
     "output_type": "execute_result"
    }
   ],
   "source": [
    "arr"
   ]
  },
  {
   "cell_type": "code",
   "execution_count": 15,
   "id": "88596051-0596-4543-8848-50daa256fafb",
   "metadata": {},
   "outputs": [
    {
     "data": {
      "text/plain": [
       "array([[ 1,  2,  3,  4],\n",
       "       [ 5,  6,  7,  8],\n",
       "       [ 9, 10, 11, 12]])"
      ]
     },
     "execution_count": 15,
     "metadata": {},
     "output_type": "execute_result"
    }
   ],
   "source": [
    "arr.reshape(3, 4) # ele mudou a forma para 3 linha e 4 colunas"
   ]
  },
  {
   "cell_type": "markdown",
   "id": "c834b64d-9d75-4672-8fed-80404a609019",
   "metadata": {},
   "source": [
    "Máximo, mínimo e índices"
   ]
  },
  {
   "cell_type": "code",
   "execution_count": 16,
   "id": "4097c39b-3ce9-4919-bf02-645383b31d01",
   "metadata": {},
   "outputs": [],
   "source": [
    "arr = np.array([10, 25, 5, 7])"
   ]
  },
  {
   "cell_type": "code",
   "execution_count": 17,
   "id": "4f82d187-5b9a-46bd-b1ac-0ffb481635e4",
   "metadata": {},
   "outputs": [
    {
     "data": {
      "text/plain": [
       "25"
      ]
     },
     "execution_count": 17,
     "metadata": {},
     "output_type": "execute_result"
    }
   ],
   "source": [
    "np.max(arr) # Pegou o valor maior"
   ]
  },
  {
   "cell_type": "code",
   "execution_count": 18,
   "id": "3b4cd6e7-e357-462d-ade7-20c23a5a3d1e",
   "metadata": {},
   "outputs": [
    {
     "data": {
      "text/plain": [
       "5"
      ]
     },
     "execution_count": 18,
     "metadata": {},
     "output_type": "execute_result"
    }
   ],
   "source": [
    "np.min(arr) # Pegou o valor menor"
   ]
  },
  {
   "cell_type": "code",
   "execution_count": 21,
   "id": "f143e99e-ed55-4b95-8f5c-10aacf3568a6",
   "metadata": {},
   "outputs": [
    {
     "data": {
      "text/plain": [
       "1"
      ]
     },
     "execution_count": 21,
     "metadata": {},
     "output_type": "execute_result"
    }
   ],
   "source": [
    "np.argmax(arr) # é \"1\", pois o indice do maior numero é 1 [0, 1, 2, 3]"
   ]
  },
  {
   "cell_type": "code",
   "execution_count": 22,
   "id": "07df9f28-8239-4127-ae1d-d25b511f3a9d",
   "metadata": {},
   "outputs": [
    {
     "data": {
      "text/plain": [
       "2"
      ]
     },
     "execution_count": 22,
     "metadata": {},
     "output_type": "execute_result"
    }
   ],
   "source": [
    "np.argmin(arr) # é \"2\", pois o indice do menor numero é 1 [0, 1, 2, 3]"
   ]
  },
  {
   "cell_type": "markdown",
   "id": "3a5e1e09-0f1c-480a-9548-061dc7e6ba4e",
   "metadata": {},
   "source": [
    "Indexação e fatiamento"
   ]
  },
  {
   "cell_type": "code",
   "execution_count": 23,
   "id": "3652028a-ea77-4cb3-be1f-d5ccc44ccbb0",
   "metadata": {},
   "outputs": [
    {
     "data": {
      "text/plain": [
       "3"
      ]
     },
     "execution_count": 23,
     "metadata": {},
     "output_type": "execute_result"
    }
   ],
   "source": [
    "arr = np.arange(0, 10)\n",
    "arr[3]"
   ]
  },
  {
   "cell_type": "code",
   "execution_count": 24,
   "id": "d6e6bb17-2dc9-4049-8664-0f8f147d77ce",
   "metadata": {},
   "outputs": [
    {
     "data": {
      "text/plain": [
       "array([2, 3, 4, 5])"
      ]
     },
     "execution_count": 24,
     "metadata": {},
     "output_type": "execute_result"
    }
   ],
   "source": [
    "arr[2:6] # pega os valores apartir do valor 2 até o 5"
   ]
  },
  {
   "cell_type": "code",
   "execution_count": 25,
   "id": "974ae526-1a39-4eba-aff2-08b2d2bc27ff",
   "metadata": {},
   "outputs": [],
   "source": [
    "arr[5:] = 99 # apartir do valor 5 ele troca os antigos valores por 99"
   ]
  },
  {
   "cell_type": "code",
   "execution_count": 26,
   "id": "11ebfb0a-8ce1-40c9-a7b3-05563033f66b",
   "metadata": {},
   "outputs": [
    {
     "data": {
      "text/plain": [
       "array([ 0,  1,  2,  3,  4, 99, 99, 99, 99, 99])"
      ]
     },
     "execution_count": 26,
     "metadata": {},
     "output_type": "execute_result"
    }
   ],
   "source": [
    "arr"
   ]
  },
  {
   "cell_type": "markdown",
   "id": "79bd394c-1fab-44e2-95fe-2fa40e8d42f5",
   "metadata": {},
   "source": [
    "Operações matemática"
   ]
  },
  {
   "cell_type": "code",
   "execution_count": 27,
   "id": "7c95f1a1-88f3-4d9f-b245-356f3cb07f63",
   "metadata": {},
   "outputs": [],
   "source": [
    "a = np.array([1, 2, 3])\n",
    "b = np.array([4, 5, 6])"
   ]
  },
  {
   "cell_type": "code",
   "execution_count": 28,
   "id": "55a79568-45e3-4d11-a713-4481f72b572d",
   "metadata": {},
   "outputs": [
    {
     "data": {
      "text/plain": [
       "array([5, 7, 9])"
      ]
     },
     "execution_count": 28,
     "metadata": {},
     "output_type": "execute_result"
    }
   ],
   "source": [
    "a + b # soma"
   ]
  },
  {
   "cell_type": "code",
   "execution_count": 29,
   "id": "0d13ddd2-aaac-46c8-9d4c-c4bfc167b418",
   "metadata": {},
   "outputs": [
    {
     "data": {
      "text/plain": [
       "array([ 4, 10, 18])"
      ]
     },
     "execution_count": 29,
     "metadata": {},
     "output_type": "execute_result"
    }
   ],
   "source": [
    "a * b # multiplica"
   ]
  },
  {
   "cell_type": "code",
   "execution_count": 30,
   "id": "210b9ba8-d5e9-4f86-aca5-8e6e04efe70b",
   "metadata": {},
   "outputs": [
    {
     "data": {
      "text/plain": [
       "array([-3, -3, -3])"
      ]
     },
     "execution_count": 30,
     "metadata": {},
     "output_type": "execute_result"
    }
   ],
   "source": [
    "a - b # subtrai"
   ]
  },
  {
   "cell_type": "code",
   "execution_count": 31,
   "id": "20360a76-d67a-4e8d-a9f4-5f7a7cc11315",
   "metadata": {},
   "outputs": [
    {
     "data": {
      "text/plain": [
       "array([0.25, 0.4 , 0.5 ])"
      ]
     },
     "execution_count": 31,
     "metadata": {},
     "output_type": "execute_result"
    }
   ],
   "source": [
    " a / b # dividi"
   ]
  },
  {
   "cell_type": "code",
   "execution_count": 32,
   "id": "0d407690-e042-43bd-ab5e-0bc34cdab7f5",
   "metadata": {},
   "outputs": [
    {
     "data": {
      "text/plain": [
       "array([  1,  32, 729])"
      ]
     },
     "execution_count": 32,
     "metadata": {},
     "output_type": "execute_result"
    }
   ],
   "source": [
    "a ** b # calcula a exponenciação"
   ]
  },
  {
   "cell_type": "code",
   "execution_count": 33,
   "id": "c73c8009-5de3-43b6-a182-917d35a3155e",
   "metadata": {},
   "outputs": [
    {
     "data": {
      "text/plain": [
       "array([1.        , 1.41421356, 1.73205081])"
      ]
     },
     "execution_count": 33,
     "metadata": {},
     "output_type": "execute_result"
    }
   ],
   "source": [
    "np.sqrt(a) # raiz"
   ]
  },
  {
   "cell_type": "code",
   "execution_count": 34,
   "id": "f2703dbc-d47f-4ac4-b863-cdba597bfa37",
   "metadata": {},
   "outputs": [
    {
     "data": {
      "text/plain": [
       "2.0"
      ]
     },
     "execution_count": 34,
     "metadata": {},
     "output_type": "execute_result"
    }
   ],
   "source": [
    "np.mean(a) # média"
   ]
  },
  {
   "cell_type": "code",
   "execution_count": 35,
   "id": "c296d8a6-6605-4862-bb69-d66be331bd95",
   "metadata": {},
   "outputs": [
    {
     "data": {
      "text/plain": [
       "0.816496580927726"
      ]
     },
     "execution_count": 35,
     "metadata": {},
     "output_type": "execute_result"
    }
   ],
   "source": [
    "np.std(a) # desvio padrão"
   ]
  },
  {
   "cell_type": "code",
   "execution_count": null,
   "id": "6e62d317-9b87-449c-b448-9c1f318499e8",
   "metadata": {},
   "outputs": [],
   "source": []
  }
 ],
 "metadata": {
  "kernelspec": {
   "display_name": "Python 3 (ipykernel)",
   "language": "python",
   "name": "python3"
  },
  "language_info": {
   "codemirror_mode": {
    "name": "ipython",
    "version": 3
   },
   "file_extension": ".py",
   "mimetype": "text/x-python",
   "name": "python",
   "nbconvert_exporter": "python",
   "pygments_lexer": "ipython3",
   "version": "3.12.7"
  }
 },
 "nbformat": 4,
 "nbformat_minor": 5
}
