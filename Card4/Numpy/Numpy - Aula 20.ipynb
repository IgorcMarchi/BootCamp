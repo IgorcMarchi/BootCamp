{
 "cells": [
  {
   "cell_type": "code",
   "execution_count": 1,
   "id": "bdce29a7-79de-459b-9946-3e6a927c4e9b",
   "metadata": {},
   "outputs": [],
   "source": [
    "import numpy as np"
   ]
  },
  {
   "cell_type": "code",
   "execution_count": 5,
   "id": "371a941e-20a4-4666-84c8-7b1be2984a6c",
   "metadata": {},
   "outputs": [],
   "source": [
    "minha_lista = 1, 2, 3"
   ]
  },
  {
   "cell_type": "code",
   "execution_count": 6,
   "id": "0bbafc44-bad6-44a5-8877-c910d623992f",
   "metadata": {},
   "outputs": [
    {
     "data": {
      "text/plain": [
       "(1, 2, 3)"
      ]
     },
     "execution_count": 6,
     "metadata": {},
     "output_type": "execute_result"
    }
   ],
   "source": [
    "minha_lista\n"
   ]
  },
  {
   "cell_type": "code",
   "execution_count": 7,
   "id": "db956cbf-d47d-49b0-8a54-d8f660105b1c",
   "metadata": {},
   "outputs": [
    {
     "data": {
      "text/plain": [
       "array([1, 2, 3])"
      ]
     },
     "execution_count": 7,
     "metadata": {},
     "output_type": "execute_result"
    }
   ],
   "source": [
    "np.array(minha_lista)"
   ]
  },
  {
   "cell_type": "code",
   "execution_count": 8,
   "id": "eff59b44-9ce1-4d71-8399-c0e29b16316e",
   "metadata": {},
   "outputs": [],
   "source": [
    "minha_matriz = [[1, 2, 3], [4, 5, 6], [7, 8, 9]]"
   ]
  },
  {
   "cell_type": "code",
   "execution_count": 9,
   "id": "8ab1ea50-dffb-4841-9cde-12a526150a84",
   "metadata": {},
   "outputs": [
    {
     "data": {
      "text/plain": [
       "array([[1, 2, 3],\n",
       "       [4, 5, 6],\n",
       "       [7, 8, 9]])"
      ]
     },
     "execution_count": 9,
     "metadata": {},
     "output_type": "execute_result"
    }
   ],
   "source": [
    "np.array(minha_matriz)"
   ]
  },
  {
   "cell_type": "code",
   "execution_count": 11,
   "id": "5f1f0f7d-84e3-4874-93dc-f7288e5a98fd",
   "metadata": {},
   "outputs": [
    {
     "data": {
      "text/plain": [
       "array([0, 1, 2, 3, 4, 5, 6, 7, 8, 9])"
      ]
     },
     "execution_count": 11,
     "metadata": {},
     "output_type": "execute_result"
    }
   ],
   "source": [
    "np.arange (0, 10)"
   ]
  },
  {
   "cell_type": "code",
   "execution_count": 12,
   "id": "bd7f7cc2-3793-4c9c-94b0-5344da325815",
   "metadata": {},
   "outputs": [
    {
     "data": {
      "text/plain": [
       "array([0, 2, 4, 6, 8])"
      ]
     },
     "execution_count": 12,
     "metadata": {},
     "output_type": "execute_result"
    }
   ],
   "source": [
    "np.arange (0, 10 , 2)"
   ]
  },
  {
   "cell_type": "code",
   "execution_count": 13,
   "id": "ee5401c5-3067-4255-94dd-48ba1eb754e9",
   "metadata": {},
   "outputs": [
    {
     "data": {
      "text/plain": [
       "array([0., 0., 0.])"
      ]
     },
     "execution_count": 13,
     "metadata": {},
     "output_type": "execute_result"
    }
   ],
   "source": [
    "np.zeros(3)"
   ]
  },
  {
   "cell_type": "code",
   "execution_count": 14,
   "id": "4178e274-face-40e6-a8f3-bb22d2741b98",
   "metadata": {},
   "outputs": [],
   "source": [
    "arr = np.zeros(3)"
   ]
  },
  {
   "cell_type": "code",
   "execution_count": 15,
   "id": "1cbce8ab-e0c8-4a54-b04d-56dd663a8a07",
   "metadata": {},
   "outputs": [
    {
     "data": {
      "text/plain": [
       "array([0., 0., 0.])"
      ]
     },
     "execution_count": 15,
     "metadata": {},
     "output_type": "execute_result"
    }
   ],
   "source": [
    "arr"
   ]
  },
  {
   "cell_type": "code",
   "execution_count": 16,
   "id": "c9fe9071-8747-4004-9fe6-6dbbe3b94aab",
   "metadata": {},
   "outputs": [],
   "source": [
    "arr = np.zeros((5, 5))"
   ]
  },
  {
   "cell_type": "code",
   "execution_count": 17,
   "id": "787a2110-c8c5-4cba-86be-be454137cb72",
   "metadata": {},
   "outputs": [
    {
     "data": {
      "text/plain": [
       "array([[0., 0., 0., 0., 0.],\n",
       "       [0., 0., 0., 0., 0.],\n",
       "       [0., 0., 0., 0., 0.],\n",
       "       [0., 0., 0., 0., 0.],\n",
       "       [0., 0., 0., 0., 0.]])"
      ]
     },
     "execution_count": 17,
     "metadata": {},
     "output_type": "execute_result"
    }
   ],
   "source": [
    "arr"
   ]
  },
  {
   "cell_type": "code",
   "execution_count": 18,
   "id": "de68b10b-2ba9-4061-adc7-2c2657cb81db",
   "metadata": {},
   "outputs": [
    {
     "data": {
      "text/plain": [
       "array([[1., 1., 1.],\n",
       "       [1., 1., 1.],\n",
       "       [1., 1., 1.]])"
      ]
     },
     "execution_count": 18,
     "metadata": {},
     "output_type": "execute_result"
    }
   ],
   "source": [
    "np.ones((3, 3))"
   ]
  },
  {
   "cell_type": "code",
   "execution_count": 20,
   "id": "46be46d9-6aef-4e15-8884-270408416b58",
   "metadata": {},
   "outputs": [
    {
     "data": {
      "text/plain": [
       "array([[1., 0., 0., 0.],\n",
       "       [0., 1., 0., 0.],\n",
       "       [0., 0., 1., 0.],\n",
       "       [0., 0., 0., 1.]])"
      ]
     },
     "execution_count": 20,
     "metadata": {},
     "output_type": "execute_result"
    }
   ],
   "source": [
    "np.eye(4)"
   ]
  },
  {
   "cell_type": "code",
   "execution_count": 21,
   "id": "a8c24991-44b6-4fe5-adef-fc4054d79030",
   "metadata": {},
   "outputs": [
    {
     "data": {
      "text/plain": [
       "array([ 0., 10.])"
      ]
     },
     "execution_count": 21,
     "metadata": {},
     "output_type": "execute_result"
    }
   ],
   "source": [
    "np.linspace(0, 10, 2)"
   ]
  },
  {
   "cell_type": "code",
   "execution_count": 22,
   "id": "ac5a4b1a-723c-467a-81ca-40824fd5b2fc",
   "metadata": {},
   "outputs": [
    {
     "data": {
      "text/plain": [
       "array([ 0.,  5., 10.])"
      ]
     },
     "execution_count": 22,
     "metadata": {},
     "output_type": "execute_result"
    }
   ],
   "source": [
    "np.linspace(0, 10, 3)"
   ]
  },
  {
   "cell_type": "code",
   "execution_count": 25,
   "id": "e5edcf9a-aae9-438b-83ed-4631b159dc41",
   "metadata": {},
   "outputs": [
    {
     "data": {
      "text/plain": [
       "array([26.03746297, 71.07513585, 75.11632123, 12.74891051, 97.21464733])"
      ]
     },
     "execution_count": 25,
     "metadata": {},
     "output_type": "execute_result"
    }
   ],
   "source": [
    "np.random.rand(5) * 100"
   ]
  },
  {
   "cell_type": "code",
   "execution_count": 27,
   "id": "4ed40ec0-b0d4-467b-ad02-0ade256ebdcb",
   "metadata": {},
   "outputs": [
    {
     "data": {
      "text/plain": [
       "array([[[0.20010972, 0.06673847, 0.78152222],\n",
       "        [0.3284909 , 0.02818927, 0.10475347],\n",
       "        [0.01539953, 0.94539917, 0.51588199],\n",
       "        [0.42753884, 0.58274644, 0.71323988]],\n",
       "\n",
       "       [[0.98292644, 0.47446405, 0.22170018],\n",
       "        [0.55097092, 0.54030116, 0.1440862 ],\n",
       "        [0.78983822, 0.62236138, 0.27871951],\n",
       "        [0.85569693, 0.31816658, 0.57817612]],\n",
       "\n",
       "       [[0.28462099, 0.07000626, 0.63140228],\n",
       "        [0.56563122, 0.63104294, 0.68202184],\n",
       "        [0.25115518, 0.88880579, 0.15275169],\n",
       "        [0.34191231, 0.06140172, 0.91361897]],\n",
       "\n",
       "       [[0.06308861, 0.94636296, 0.39572522],\n",
       "        [0.17517774, 0.81880816, 0.06761947],\n",
       "        [0.618615  , 0.03168131, 0.71167082],\n",
       "        [0.49724984, 0.15109741, 0.37907163]],\n",
       "\n",
       "       [[0.21693875, 0.27013344, 0.31353384],\n",
       "        [0.46105858, 0.81716695, 0.30604359],\n",
       "        [0.6755041 , 0.50243161, 0.53972713],\n",
       "        [0.06925355, 0.14349568, 0.4646131 ]]])"
      ]
     },
     "execution_count": 27,
     "metadata": {},
     "output_type": "execute_result"
    }
   ],
   "source": [
    "np.random.rand(5, 4, 3)"
   ]
  },
  {
   "cell_type": "code",
   "execution_count": 29,
   "id": "21441ea8-2240-40c1-a2c7-ea83c6f61fb3",
   "metadata": {},
   "outputs": [
    {
     "data": {
      "text/plain": [
       "array([0.73270853, 0.610071  , 0.2596268 , 0.79361699])"
      ]
     },
     "execution_count": 29,
     "metadata": {},
     "output_type": "execute_result"
    }
   ],
   "source": [
    "np.random.rand(4)"
   ]
  },
  {
   "cell_type": "code",
   "execution_count": 30,
   "id": "a3d1a116-2374-46a6-9e0d-fe94e19d1d44",
   "metadata": {},
   "outputs": [
    {
     "data": {
      "text/plain": [
       "array([-0.53431149, -0.27624699,  2.91712632,  0.34349988])"
      ]
     },
     "execution_count": 30,
     "metadata": {},
     "output_type": "execute_result"
    }
   ],
   "source": [
    "np.random.randn(4)"
   ]
  },
  {
   "cell_type": "code",
   "execution_count": 31,
   "id": "6d52db48-8d1a-4dc4-bc5f-cca447d8e390",
   "metadata": {},
   "outputs": [
    {
     "data": {
      "text/plain": [
       "array([65, 16, 53, 35, 61, 25, 80, 31, 93, 33])"
      ]
     },
     "execution_count": 31,
     "metadata": {},
     "output_type": "execute_result"
    }
   ],
   "source": [
    "np.random.randint(0, 100, 10)"
   ]
  },
  {
   "cell_type": "code",
   "execution_count": 32,
   "id": "0ed7e629-1b5d-43ea-b06a-efbf707b5427",
   "metadata": {},
   "outputs": [
    {
     "data": {
      "text/plain": [
       "array([76.30469903, 66.26063696, 74.01089213, 83.296299  , 54.4117021 ])"
      ]
     },
     "execution_count": 32,
     "metadata": {},
     "output_type": "execute_result"
    }
   ],
   "source": [
    "np.random.rand(5) * 100"
   ]
  },
  {
   "cell_type": "code",
   "execution_count": 33,
   "id": "f1ef69b8-5129-4792-87f1-6ced5de8c244",
   "metadata": {},
   "outputs": [
    {
     "data": {
      "text/plain": [
       "array([0., 1., 1., 0., 1.])"
      ]
     },
     "execution_count": 33,
     "metadata": {},
     "output_type": "execute_result"
    }
   ],
   "source": [
    "np.round(np.random.rand(5), 0)"
   ]
  },
  {
   "cell_type": "code",
   "execution_count": 34,
   "id": "7e48787c-3814-4d08-a240-f200426e8837",
   "metadata": {},
   "outputs": [
    {
     "data": {
      "text/plain": [
       "array([72., 62., 44., 15., 88.])"
      ]
     },
     "execution_count": 34,
     "metadata": {},
     "output_type": "execute_result"
    }
   ],
   "source": [
    "np.round(np.random.rand(5) * 100, 0)"
   ]
  },
  {
   "cell_type": "code",
   "execution_count": 35,
   "id": "1ba91052-505b-4c7a-a214-89fde192f92b",
   "metadata": {},
   "outputs": [],
   "source": [
    "arr = np.random.rand(25)\n"
   ]
  },
  {
   "cell_type": "code",
   "execution_count": 36,
   "id": "29974076-8e69-4283-bace-4909362b1e0c",
   "metadata": {},
   "outputs": [
    {
     "data": {
      "text/plain": [
       "array([0.39265544, 0.1263744 , 0.90788995, 0.69550912, 0.56025822,\n",
       "       0.0973678 , 0.91486565, 0.69601876, 0.21176454, 0.26538792,\n",
       "       0.22394016, 0.42090031, 0.5791962 , 0.33418668, 0.02450032,\n",
       "       0.42048044, 0.8257862 , 0.45775391, 0.08449992, 0.32722693,\n",
       "       0.47327297, 0.56286675, 0.19138398, 0.9519195 , 0.04493932])"
      ]
     },
     "execution_count": 36,
     "metadata": {},
     "output_type": "execute_result"
    }
   ],
   "source": [
    "arr"
   ]
  },
  {
   "cell_type": "code",
   "execution_count": 37,
   "id": "2bd40362-1c3c-4f20-a2b5-417426ca4fad",
   "metadata": {},
   "outputs": [
    {
     "data": {
      "text/plain": [
       "array([[0.39265544, 0.1263744 , 0.90788995, 0.69550912, 0.56025822],\n",
       "       [0.0973678 , 0.91486565, 0.69601876, 0.21176454, 0.26538792],\n",
       "       [0.22394016, 0.42090031, 0.5791962 , 0.33418668, 0.02450032],\n",
       "       [0.42048044, 0.8257862 , 0.45775391, 0.08449992, 0.32722693],\n",
       "       [0.47327297, 0.56286675, 0.19138398, 0.9519195 , 0.04493932]])"
      ]
     },
     "execution_count": 37,
     "metadata": {},
     "output_type": "execute_result"
    }
   ],
   "source": [
    "arr.reshape((5, 5))"
   ]
  },
  {
   "cell_type": "code",
   "execution_count": 39,
   "id": "f43dd47e-3201-48e6-8be9-ae2fe1703a02",
   "metadata": {},
   "outputs": [],
   "source": [
    "arr = arr.reshape((5, 5))"
   ]
  },
  {
   "cell_type": "code",
   "execution_count": 40,
   "id": "7e298f1f-c239-4571-88df-d511f6510dab",
   "metadata": {},
   "outputs": [
    {
     "data": {
      "text/plain": [
       "array([[0.39265544, 0.1263744 , 0.90788995, 0.69550912, 0.56025822],\n",
       "       [0.0973678 , 0.91486565, 0.69601876, 0.21176454, 0.26538792],\n",
       "       [0.22394016, 0.42090031, 0.5791962 , 0.33418668, 0.02450032],\n",
       "       [0.42048044, 0.8257862 , 0.45775391, 0.08449992, 0.32722693],\n",
       "       [0.47327297, 0.56286675, 0.19138398, 0.9519195 , 0.04493932]])"
      ]
     },
     "execution_count": 40,
     "metadata": {},
     "output_type": "execute_result"
    }
   ],
   "source": [
    "arr"
   ]
  },
  {
   "cell_type": "code",
   "execution_count": 41,
   "id": "942e5477-7db4-488c-bd18-f1e0b88e1d9a",
   "metadata": {},
   "outputs": [
    {
     "data": {
      "text/plain": [
       "(5, 5)"
      ]
     },
     "execution_count": 41,
     "metadata": {},
     "output_type": "execute_result"
    }
   ],
   "source": [
    "arr.shape"
   ]
  },
  {
   "cell_type": "code",
   "execution_count": 43,
   "id": "76aed62a-4771-49ce-8686-aec0cbca62d1",
   "metadata": {},
   "outputs": [
    {
     "data": {
      "text/plain": [
       "0.9519195040512641"
      ]
     },
     "execution_count": 43,
     "metadata": {},
     "output_type": "execute_result"
    }
   ],
   "source": [
    "arr.max()"
   ]
  },
  {
   "cell_type": "code",
   "execution_count": 44,
   "id": "07a8d7c2-2a54-4458-bebe-e2d56b15ee63",
   "metadata": {},
   "outputs": [
    {
     "data": {
      "text/plain": [
       "0.024500324129057005"
      ]
     },
     "execution_count": 44,
     "metadata": {},
     "output_type": "execute_result"
    }
   ],
   "source": [
    "arr.min()"
   ]
  },
  {
   "cell_type": "code",
   "execution_count": 45,
   "id": "53643e9e-bd4a-4fb3-8453-efb4f3478b9d",
   "metadata": {},
   "outputs": [
    {
     "data": {
      "text/plain": [
       "23"
      ]
     },
     "execution_count": 45,
     "metadata": {},
     "output_type": "execute_result"
    }
   ],
   "source": [
    "arr.argmax()"
   ]
  },
  {
   "cell_type": "code",
   "execution_count": 46,
   "id": "b68da0a6-1b1a-4f1e-af72-e0328b3f35cf",
   "metadata": {},
   "outputs": [
    {
     "data": {
      "text/plain": [
       "14"
      ]
     },
     "execution_count": 46,
     "metadata": {},
     "output_type": "execute_result"
    }
   ],
   "source": [
    "arr.argmin()"
   ]
  }
 ],
 "metadata": {
  "kernelspec": {
   "display_name": "Python 3 (ipykernel)",
   "language": "python",
   "name": "python3"
  },
  "language_info": {
   "codemirror_mode": {
    "name": "ipython",
    "version": 3
   },
   "file_extension": ".py",
   "mimetype": "text/x-python",
   "name": "python",
   "nbconvert_exporter": "python",
   "pygments_lexer": "ipython3",
   "version": "3.12.7"
  }
 },
 "nbformat": 4,
 "nbformat_minor": 5
}
