{
 "cells": [
  {
   "cell_type": "code",
   "execution_count": 1,
   "id": "62067794-971d-4ee4-9121-ecdaa0259da5",
   "metadata": {},
   "outputs": [],
   "source": [
    "import pandas as pd\n",
    "import numpy as np"
   ]
  },
  {
   "cell_type": "markdown",
   "id": "4ee4771d-2c75-493b-9eee-03a057d6ab2e",
   "metadata": {},
   "source": [
    "Dados ausentes"
   ]
  },
  {
   "cell_type": "code",
   "execution_count": 2,
   "id": "7cf91fb5-a5e2-475e-b9e5-5731b5346309",
   "metadata": {},
   "outputs": [
    {
     "data": {
      "text/html": [
       "<div>\n",
       "<style scoped>\n",
       "    .dataframe tbody tr th:only-of-type {\n",
       "        vertical-align: middle;\n",
       "    }\n",
       "\n",
       "    .dataframe tbody tr th {\n",
       "        vertical-align: top;\n",
       "    }\n",
       "\n",
       "    .dataframe thead th {\n",
       "        text-align: right;\n",
       "    }\n",
       "</style>\n",
       "<table border=\"1\" class=\"dataframe\">\n",
       "  <thead>\n",
       "    <tr style=\"text-align: right;\">\n",
       "      <th></th>\n",
       "      <th>Corinthians</th>\n",
       "      <th>Palmeiras</th>\n",
       "    </tr>\n",
       "  </thead>\n",
       "  <tbody>\n",
       "    <tr>\n",
       "      <th>Brasileirão</th>\n",
       "      <td>7</td>\n",
       "      <td>12.0</td>\n",
       "    </tr>\n",
       "    <tr>\n",
       "      <th>Paulistão</th>\n",
       "      <td>31</td>\n",
       "      <td>28.0</td>\n",
       "    </tr>\n",
       "    <tr>\n",
       "      <th>Mundial</th>\n",
       "      <td>2</td>\n",
       "      <td>NaN</td>\n",
       "    </tr>\n",
       "  </tbody>\n",
       "</table>\n",
       "</div>"
      ],
      "text/plain": [
       "             Corinthians  Palmeiras\n",
       "Brasileirão            7       12.0\n",
       "Paulistão             31       28.0\n",
       "Mundial                2        NaN"
      ]
     },
     "execution_count": 2,
     "metadata": {},
     "output_type": "execute_result"
    }
   ],
   "source": [
    "d = {\"Corinthians\": [7, 31, 2], \"Palmeiras\": [12, 28, np.nan]}\n",
    "df = pd.DataFrame(d, index=[\"Brasileirão\", \"Paulistão\", \"Mundial\"])\n",
    "df # Crie uma tabela com dados das prêmiações do futebol, comparando palmeiras e corinthians"
   ]
  },
  {
   "cell_type": "code",
   "execution_count": 3,
   "id": "917aa104-dab3-4297-ac74-d1abcbfdd0f5",
   "metadata": {},
   "outputs": [
    {
     "data": {
      "text/html": [
       "<div>\n",
       "<style scoped>\n",
       "    .dataframe tbody tr th:only-of-type {\n",
       "        vertical-align: middle;\n",
       "    }\n",
       "\n",
       "    .dataframe tbody tr th {\n",
       "        vertical-align: top;\n",
       "    }\n",
       "\n",
       "    .dataframe thead th {\n",
       "        text-align: right;\n",
       "    }\n",
       "</style>\n",
       "<table border=\"1\" class=\"dataframe\">\n",
       "  <thead>\n",
       "    <tr style=\"text-align: right;\">\n",
       "      <th></th>\n",
       "      <th>Corinthians</th>\n",
       "      <th>Palmeiras</th>\n",
       "    </tr>\n",
       "  </thead>\n",
       "  <tbody>\n",
       "    <tr>\n",
       "      <th>Brasileirão</th>\n",
       "      <td>False</td>\n",
       "      <td>False</td>\n",
       "    </tr>\n",
       "    <tr>\n",
       "      <th>Paulistão</th>\n",
       "      <td>False</td>\n",
       "      <td>False</td>\n",
       "    </tr>\n",
       "    <tr>\n",
       "      <th>Mundial</th>\n",
       "      <td>False</td>\n",
       "      <td>True</td>\n",
       "    </tr>\n",
       "  </tbody>\n",
       "</table>\n",
       "</div>"
      ],
      "text/plain": [
       "             Corinthians  Palmeiras\n",
       "Brasileirão        False      False\n",
       "Paulistão          False      False\n",
       "Mundial            False       True"
      ]
     },
     "execution_count": 3,
     "metadata": {},
     "output_type": "execute_result"
    }
   ],
   "source": [
    "df.isnull() # coloca todos os dados em booleana, \"true\" é o dado auesente"
   ]
  },
  {
   "cell_type": "code",
   "execution_count": 4,
   "id": "2f89f257-76bf-4c3c-9fd5-042d0f0006c7",
   "metadata": {},
   "outputs": [
    {
     "data": {
      "text/plain": [
       "Corinthians    0\n",
       "Palmeiras      1\n",
       "dtype: int64"
      ]
     },
     "execution_count": 4,
     "metadata": {},
     "output_type": "execute_result"
    }
   ],
   "source": [
    "df.isnull().sum() # verifica os dados ausentes e depois conta quantos que tem em cada coluna, no caso tem 1 no palmeiras"
   ]
  },
  {
   "cell_type": "code",
   "execution_count": 8,
   "id": "13d66cd3-2b9d-42a2-99a7-c88e7c345f33",
   "metadata": {},
   "outputs": [
    {
     "data": {
      "text/html": [
       "<div>\n",
       "<style scoped>\n",
       "    .dataframe tbody tr th:only-of-type {\n",
       "        vertical-align: middle;\n",
       "    }\n",
       "\n",
       "    .dataframe tbody tr th {\n",
       "        vertical-align: top;\n",
       "    }\n",
       "\n",
       "    .dataframe thead th {\n",
       "        text-align: right;\n",
       "    }\n",
       "</style>\n",
       "<table border=\"1\" class=\"dataframe\">\n",
       "  <thead>\n",
       "    <tr style=\"text-align: right;\">\n",
       "      <th></th>\n",
       "      <th>Corinthians</th>\n",
       "      <th>Palmeiras</th>\n",
       "    </tr>\n",
       "  </thead>\n",
       "  <tbody>\n",
       "    <tr>\n",
       "      <th>Brasileirão</th>\n",
       "      <td>7</td>\n",
       "      <td>12.0</td>\n",
       "    </tr>\n",
       "    <tr>\n",
       "      <th>Paulistão</th>\n",
       "      <td>31</td>\n",
       "      <td>28.0</td>\n",
       "    </tr>\n",
       "  </tbody>\n",
       "</table>\n",
       "</div>"
      ],
      "text/plain": [
       "             Corinthians  Palmeiras\n",
       "Brasileirão            7       12.0\n",
       "Paulistão             31       28.0"
      ]
     },
     "execution_count": 8,
     "metadata": {},
     "output_type": "execute_result"
    }
   ],
   "source": [
    "df.dropna() # apaga a linha do dado ausente"
   ]
  },
  {
   "cell_type": "code",
   "execution_count": 5,
   "id": "4145c098-e4ea-48e9-a22c-5ecc9027b3dc",
   "metadata": {},
   "outputs": [
    {
     "name": "stderr",
     "output_type": "stream",
     "text": [
      "C:\\Users\\User\\AppData\\Local\\Temp\\ipykernel_13392\\4230306975.py:1: FutureWarning: DataFrame.fillna with 'method' is deprecated and will raise in a future version. Use obj.ffill() or obj.bfill() instead.\n",
      "  df.fillna(method=\"ffill\") # Preenchi o dado ausente com o valor acima\n"
     ]
    },
    {
     "data": {
      "text/html": [
       "<div>\n",
       "<style scoped>\n",
       "    .dataframe tbody tr th:only-of-type {\n",
       "        vertical-align: middle;\n",
       "    }\n",
       "\n",
       "    .dataframe tbody tr th {\n",
       "        vertical-align: top;\n",
       "    }\n",
       "\n",
       "    .dataframe thead th {\n",
       "        text-align: right;\n",
       "    }\n",
       "</style>\n",
       "<table border=\"1\" class=\"dataframe\">\n",
       "  <thead>\n",
       "    <tr style=\"text-align: right;\">\n",
       "      <th></th>\n",
       "      <th>Corinthians</th>\n",
       "      <th>Palmeiras</th>\n",
       "    </tr>\n",
       "  </thead>\n",
       "  <tbody>\n",
       "    <tr>\n",
       "      <th>Brasileirão</th>\n",
       "      <td>7</td>\n",
       "      <td>12.0</td>\n",
       "    </tr>\n",
       "    <tr>\n",
       "      <th>Paulistão</th>\n",
       "      <td>31</td>\n",
       "      <td>28.0</td>\n",
       "    </tr>\n",
       "    <tr>\n",
       "      <th>Mundial</th>\n",
       "      <td>2</td>\n",
       "      <td>28.0</td>\n",
       "    </tr>\n",
       "  </tbody>\n",
       "</table>\n",
       "</div>"
      ],
      "text/plain": [
       "             Corinthians  Palmeiras\n",
       "Brasileirão            7       12.0\n",
       "Paulistão             31       28.0\n",
       "Mundial                2       28.0"
      ]
     },
     "execution_count": 5,
     "metadata": {},
     "output_type": "execute_result"
    }
   ],
   "source": [
    "df.fillna(method=\"ffill\") # Preenchi o dado ausente com o valor acima"
   ]
  },
  {
   "cell_type": "code",
   "execution_count": 6,
   "id": "d14f5ccb-2822-4974-9692-23fac6d3523a",
   "metadata": {},
   "outputs": [
    {
     "name": "stderr",
     "output_type": "stream",
     "text": [
      "C:\\Users\\User\\AppData\\Local\\Temp\\ipykernel_13392\\1857956796.py:1: FutureWarning: DataFrame.fillna with 'method' is deprecated and will raise in a future version. Use obj.ffill() or obj.bfill() instead.\n",
      "  df.fillna(method=\"bfill\") # Preenche com o valor da linha de baixo, porém como não fica ausente\n"
     ]
    },
    {
     "data": {
      "text/html": [
       "<div>\n",
       "<style scoped>\n",
       "    .dataframe tbody tr th:only-of-type {\n",
       "        vertical-align: middle;\n",
       "    }\n",
       "\n",
       "    .dataframe tbody tr th {\n",
       "        vertical-align: top;\n",
       "    }\n",
       "\n",
       "    .dataframe thead th {\n",
       "        text-align: right;\n",
       "    }\n",
       "</style>\n",
       "<table border=\"1\" class=\"dataframe\">\n",
       "  <thead>\n",
       "    <tr style=\"text-align: right;\">\n",
       "      <th></th>\n",
       "      <th>Corinthians</th>\n",
       "      <th>Palmeiras</th>\n",
       "    </tr>\n",
       "  </thead>\n",
       "  <tbody>\n",
       "    <tr>\n",
       "      <th>Brasileirão</th>\n",
       "      <td>7</td>\n",
       "      <td>12.0</td>\n",
       "    </tr>\n",
       "    <tr>\n",
       "      <th>Paulistão</th>\n",
       "      <td>31</td>\n",
       "      <td>28.0</td>\n",
       "    </tr>\n",
       "    <tr>\n",
       "      <th>Mundial</th>\n",
       "      <td>2</td>\n",
       "      <td>NaN</td>\n",
       "    </tr>\n",
       "  </tbody>\n",
       "</table>\n",
       "</div>"
      ],
      "text/plain": [
       "             Corinthians  Palmeiras\n",
       "Brasileirão            7       12.0\n",
       "Paulistão             31       28.0\n",
       "Mundial                2        NaN"
      ]
     },
     "execution_count": 6,
     "metadata": {},
     "output_type": "execute_result"
    }
   ],
   "source": [
    "df.fillna(method=\"bfill\") # Preenche com o valor da linha de baixo, porém como não fica ausente"
   ]
  },
  {
   "cell_type": "markdown",
   "id": "c28b65c4-2d42-4fd3-ae58-7467211fd0ee",
   "metadata": {},
   "source": [
    "Juntar, mesclar e concatenar"
   ]
  },
  {
   "cell_type": "code",
   "execution_count": 7,
   "id": "051c3b7b-794c-4335-b22f-60efab8c85d3",
   "metadata": {},
   "outputs": [],
   "source": [
    "df1 = pd.DataFrame({\n",
    "    \"Time\": [\"Corinthians\", \"Palmeiras\", \"São Paulo\"],\n",
    "    \"Pontos\": [40, 38, 35]\n",
    "})\n",
    "\n",
    "df2 = pd.DataFrame({\n",
    "    \"Time\": [\"Flamengo\", \"Vasco\", \"Botafogo\"],\n",
    "    \"Pontos\": [45, 30, 50]\n",
    "})"
   ]
  },
  {
   "cell_type": "code",
   "execution_count": 9,
   "id": "c916cd80-0458-489e-ad9c-2cb7d4f2dab8",
   "metadata": {},
   "outputs": [
    {
     "data": {
      "text/html": [
       "<div>\n",
       "<style scoped>\n",
       "    .dataframe tbody tr th:only-of-type {\n",
       "        vertical-align: middle;\n",
       "    }\n",
       "\n",
       "    .dataframe tbody tr th {\n",
       "        vertical-align: top;\n",
       "    }\n",
       "\n",
       "    .dataframe thead th {\n",
       "        text-align: right;\n",
       "    }\n",
       "</style>\n",
       "<table border=\"1\" class=\"dataframe\">\n",
       "  <thead>\n",
       "    <tr style=\"text-align: right;\">\n",
       "      <th></th>\n",
       "      <th>Time</th>\n",
       "      <th>Pontos</th>\n",
       "    </tr>\n",
       "  </thead>\n",
       "  <tbody>\n",
       "    <tr>\n",
       "      <th>0</th>\n",
       "      <td>Corinthians</td>\n",
       "      <td>40</td>\n",
       "    </tr>\n",
       "    <tr>\n",
       "      <th>1</th>\n",
       "      <td>Palmeiras</td>\n",
       "      <td>38</td>\n",
       "    </tr>\n",
       "    <tr>\n",
       "      <th>2</th>\n",
       "      <td>São Paulo</td>\n",
       "      <td>35</td>\n",
       "    </tr>\n",
       "  </tbody>\n",
       "</table>\n",
       "</div>"
      ],
      "text/plain": [
       "          Time  Pontos\n",
       "0  Corinthians      40\n",
       "1    Palmeiras      38\n",
       "2    São Paulo      35"
      ]
     },
     "execution_count": 9,
     "metadata": {},
     "output_type": "execute_result"
    }
   ],
   "source": [
    "df1 # tabela 1"
   ]
  },
  {
   "cell_type": "code",
   "execution_count": 10,
   "id": "73ce4174-b4d2-4653-ad62-dfdfdff5b7b7",
   "metadata": {},
   "outputs": [
    {
     "data": {
      "text/html": [
       "<div>\n",
       "<style scoped>\n",
       "    .dataframe tbody tr th:only-of-type {\n",
       "        vertical-align: middle;\n",
       "    }\n",
       "\n",
       "    .dataframe tbody tr th {\n",
       "        vertical-align: top;\n",
       "    }\n",
       "\n",
       "    .dataframe thead th {\n",
       "        text-align: right;\n",
       "    }\n",
       "</style>\n",
       "<table border=\"1\" class=\"dataframe\">\n",
       "  <thead>\n",
       "    <tr style=\"text-align: right;\">\n",
       "      <th></th>\n",
       "      <th>Time</th>\n",
       "      <th>Pontos</th>\n",
       "    </tr>\n",
       "  </thead>\n",
       "  <tbody>\n",
       "    <tr>\n",
       "      <th>0</th>\n",
       "      <td>Flamengo</td>\n",
       "      <td>45</td>\n",
       "    </tr>\n",
       "    <tr>\n",
       "      <th>1</th>\n",
       "      <td>Vasco</td>\n",
       "      <td>30</td>\n",
       "    </tr>\n",
       "    <tr>\n",
       "      <th>2</th>\n",
       "      <td>Botafogo</td>\n",
       "      <td>50</td>\n",
       "    </tr>\n",
       "  </tbody>\n",
       "</table>\n",
       "</div>"
      ],
      "text/plain": [
       "       Time  Pontos\n",
       "0  Flamengo      45\n",
       "1     Vasco      30\n",
       "2  Botafogo      50"
      ]
     },
     "execution_count": 10,
     "metadata": {},
     "output_type": "execute_result"
    }
   ],
   "source": [
    "df2 # tabela 2"
   ]
  },
  {
   "cell_type": "code",
   "execution_count": 11,
   "id": "87550137-0820-4223-b4bb-cde34af49bd7",
   "metadata": {},
   "outputs": [],
   "source": [
    "concatenar = pd.concat([df1, df2]) # estão unindo ambas tabelas"
   ]
  },
  {
   "cell_type": "code",
   "execution_count": 12,
   "id": "fb849eb7-0194-4937-b99d-efe202b2eef6",
   "metadata": {},
   "outputs": [
    {
     "data": {
      "text/html": [
       "<div>\n",
       "<style scoped>\n",
       "    .dataframe tbody tr th:only-of-type {\n",
       "        vertical-align: middle;\n",
       "    }\n",
       "\n",
       "    .dataframe tbody tr th {\n",
       "        vertical-align: top;\n",
       "    }\n",
       "\n",
       "    .dataframe thead th {\n",
       "        text-align: right;\n",
       "    }\n",
       "</style>\n",
       "<table border=\"1\" class=\"dataframe\">\n",
       "  <thead>\n",
       "    <tr style=\"text-align: right;\">\n",
       "      <th></th>\n",
       "      <th>Time</th>\n",
       "      <th>Pontos</th>\n",
       "    </tr>\n",
       "  </thead>\n",
       "  <tbody>\n",
       "    <tr>\n",
       "      <th>0</th>\n",
       "      <td>Corinthians</td>\n",
       "      <td>40</td>\n",
       "    </tr>\n",
       "    <tr>\n",
       "      <th>1</th>\n",
       "      <td>Palmeiras</td>\n",
       "      <td>38</td>\n",
       "    </tr>\n",
       "    <tr>\n",
       "      <th>2</th>\n",
       "      <td>São Paulo</td>\n",
       "      <td>35</td>\n",
       "    </tr>\n",
       "    <tr>\n",
       "      <th>0</th>\n",
       "      <td>Flamengo</td>\n",
       "      <td>45</td>\n",
       "    </tr>\n",
       "    <tr>\n",
       "      <th>1</th>\n",
       "      <td>Vasco</td>\n",
       "      <td>30</td>\n",
       "    </tr>\n",
       "    <tr>\n",
       "      <th>2</th>\n",
       "      <td>Botafogo</td>\n",
       "      <td>50</td>\n",
       "    </tr>\n",
       "  </tbody>\n",
       "</table>\n",
       "</div>"
      ],
      "text/plain": [
       "          Time  Pontos\n",
       "0  Corinthians      40\n",
       "1    Palmeiras      38\n",
       "2    São Paulo      35\n",
       "0     Flamengo      45\n",
       "1        Vasco      30\n",
       "2     Botafogo      50"
      ]
     },
     "execution_count": 12,
     "metadata": {},
     "output_type": "execute_result"
    }
   ],
   "source": [
    "concatenar"
   ]
  },
  {
   "cell_type": "code",
   "execution_count": 13,
   "id": "a655eb34-e5f6-4c01-b9b4-18d8448e4b53",
   "metadata": {},
   "outputs": [],
   "source": [
    "df_esquerda = pd.DataFrame({\n",
    "    \"Time\": [\"Corinthians\", \"Palmeiras\", \"São Paulo\"],\n",
    "    \"Cidade\": [\"São Paulo\", \"São Paulo\", \"São Paulo\"]\n",
    "})\n",
    "\n",
    "df_direita = pd.DataFrame({\n",
    "    \"Time\": [\"Corinthians\", \"Palmeiras\", \"Flamengo\"],\n",
    "    \"Titulos\": [30, 25, 40]\n",
    "})"
   ]
  },
  {
   "cell_type": "code",
   "execution_count": 14,
   "id": "ecf74944-dacd-4917-bbe4-a1294a7bd157",
   "metadata": {},
   "outputs": [],
   "source": [
    "mergeDF= pd.merge(df_esquerda, df_direita, on=\"Time\", how=\"inner\") # está juntando os dados que contem em ambos igualmente, no caso apenas corinthians e palmeiras"
   ]
  },
  {
   "cell_type": "code",
   "execution_count": 15,
   "id": "fcddc254-6e53-4c50-8450-559f676810bb",
   "metadata": {},
   "outputs": [
    {
     "data": {
      "text/html": [
       "<div>\n",
       "<style scoped>\n",
       "    .dataframe tbody tr th:only-of-type {\n",
       "        vertical-align: middle;\n",
       "    }\n",
       "\n",
       "    .dataframe tbody tr th {\n",
       "        vertical-align: top;\n",
       "    }\n",
       "\n",
       "    .dataframe thead th {\n",
       "        text-align: right;\n",
       "    }\n",
       "</style>\n",
       "<table border=\"1\" class=\"dataframe\">\n",
       "  <thead>\n",
       "    <tr style=\"text-align: right;\">\n",
       "      <th></th>\n",
       "      <th>Time</th>\n",
       "      <th>Cidade</th>\n",
       "      <th>Titulos</th>\n",
       "    </tr>\n",
       "  </thead>\n",
       "  <tbody>\n",
       "    <tr>\n",
       "      <th>0</th>\n",
       "      <td>Corinthians</td>\n",
       "      <td>São Paulo</td>\n",
       "      <td>30</td>\n",
       "    </tr>\n",
       "    <tr>\n",
       "      <th>1</th>\n",
       "      <td>Palmeiras</td>\n",
       "      <td>São Paulo</td>\n",
       "      <td>25</td>\n",
       "    </tr>\n",
       "  </tbody>\n",
       "</table>\n",
       "</div>"
      ],
      "text/plain": [
       "          Time     Cidade  Titulos\n",
       "0  Corinthians  São Paulo       30\n",
       "1    Palmeiras  São Paulo       25"
      ]
     },
     "execution_count": 15,
     "metadata": {},
     "output_type": "execute_result"
    }
   ],
   "source": [
    "mergeDF"
   ]
  },
  {
   "cell_type": "code",
   "execution_count": 16,
   "id": "d92d1758-8d62-4797-bcec-d0b0ae64a124",
   "metadata": {},
   "outputs": [],
   "source": [
    "df_left = pd.DataFrame({\n",
    "    \"Pontos\": [40, 38, 35]\n",
    "}, index=[\"Corinthians\", \"Palmeiras\", \"São Paulo\"])\n",
    "\n",
    "df_right = pd.DataFrame({\n",
    "    \"Titulos\": [30, 25, 18]\n",
    "}, index=[\"Corinthians\", \"Palmeiras\", \"Flamengo\"])"
   ]
  },
  {
   "cell_type": "code",
   "execution_count": 17,
   "id": "6b34317a-d7f5-4a39-be28-b094bc2926c4",
   "metadata": {},
   "outputs": [],
   "source": [
    "join_df = df_left.join(df_right, how=\"outer\") # ele junta ambos na tabela sem tirar nenhuma das linhas, porém onde não são iguais é colocado com ausente"
   ]
  },
  {
   "cell_type": "code",
   "execution_count": 18,
   "id": "9de94c27-f84e-4f37-b049-5a66597226e9",
   "metadata": {},
   "outputs": [
    {
     "data": {
      "text/html": [
       "<div>\n",
       "<style scoped>\n",
       "    .dataframe tbody tr th:only-of-type {\n",
       "        vertical-align: middle;\n",
       "    }\n",
       "\n",
       "    .dataframe tbody tr th {\n",
       "        vertical-align: top;\n",
       "    }\n",
       "\n",
       "    .dataframe thead th {\n",
       "        text-align: right;\n",
       "    }\n",
       "</style>\n",
       "<table border=\"1\" class=\"dataframe\">\n",
       "  <thead>\n",
       "    <tr style=\"text-align: right;\">\n",
       "      <th></th>\n",
       "      <th>Pontos</th>\n",
       "      <th>Titulos</th>\n",
       "    </tr>\n",
       "  </thead>\n",
       "  <tbody>\n",
       "    <tr>\n",
       "      <th>Corinthians</th>\n",
       "      <td>40.0</td>\n",
       "      <td>30.0</td>\n",
       "    </tr>\n",
       "    <tr>\n",
       "      <th>Flamengo</th>\n",
       "      <td>NaN</td>\n",
       "      <td>18.0</td>\n",
       "    </tr>\n",
       "    <tr>\n",
       "      <th>Palmeiras</th>\n",
       "      <td>38.0</td>\n",
       "      <td>25.0</td>\n",
       "    </tr>\n",
       "    <tr>\n",
       "      <th>São Paulo</th>\n",
       "      <td>35.0</td>\n",
       "      <td>NaN</td>\n",
       "    </tr>\n",
       "  </tbody>\n",
       "</table>\n",
       "</div>"
      ],
      "text/plain": [
       "             Pontos  Titulos\n",
       "Corinthians    40.0     30.0\n",
       "Flamengo        NaN     18.0\n",
       "Palmeiras      38.0     25.0\n",
       "São Paulo      35.0      NaN"
      ]
     },
     "execution_count": 18,
     "metadata": {},
     "output_type": "execute_result"
    }
   ],
   "source": [
    "join_df"
   ]
  },
  {
   "cell_type": "markdown",
   "id": "8a040244-3b00-4cd4-adf6-35aa568cb707",
   "metadata": {},
   "source": [
    "DataFrame"
   ]
  },
  {
   "cell_type": "code",
   "execution_count": 19,
   "id": "20df0b7e-a812-445d-94fe-f3dc0de05178",
   "metadata": {},
   "outputs": [],
   "source": [
    "df = pd.DataFrame({\n",
    "    \"Time\": [\"Corinthians\", \"Palmeiras\", \"Corinthians\", \"Palmeiras\", \"Flamengo\"],\n",
    "    \"Gols\": [10, 15, 7, 20, 25],\n",
    "    \"Pontos\": [30, 28, 25, 32, 40]\n",
    "})"
   ]
  },
  {
   "cell_type": "code",
   "execution_count": 20,
   "id": "800a8811-ede8-4056-aaf0-db8c18f3dbf3",
   "metadata": {},
   "outputs": [
    {
     "data": {
      "text/html": [
       "<div>\n",
       "<style scoped>\n",
       "    .dataframe tbody tr th:only-of-type {\n",
       "        vertical-align: middle;\n",
       "    }\n",
       "\n",
       "    .dataframe tbody tr th {\n",
       "        vertical-align: top;\n",
       "    }\n",
       "\n",
       "    .dataframe thead th {\n",
       "        text-align: right;\n",
       "    }\n",
       "</style>\n",
       "<table border=\"1\" class=\"dataframe\">\n",
       "  <thead>\n",
       "    <tr style=\"text-align: right;\">\n",
       "      <th></th>\n",
       "      <th>Time</th>\n",
       "      <th>Gols</th>\n",
       "      <th>Pontos</th>\n",
       "    </tr>\n",
       "  </thead>\n",
       "  <tbody>\n",
       "    <tr>\n",
       "      <th>0</th>\n",
       "      <td>Corinthians</td>\n",
       "      <td>10</td>\n",
       "      <td>30</td>\n",
       "    </tr>\n",
       "    <tr>\n",
       "      <th>1</th>\n",
       "      <td>Palmeiras</td>\n",
       "      <td>15</td>\n",
       "      <td>28</td>\n",
       "    </tr>\n",
       "    <tr>\n",
       "      <th>2</th>\n",
       "      <td>Corinthians</td>\n",
       "      <td>7</td>\n",
       "      <td>25</td>\n",
       "    </tr>\n",
       "    <tr>\n",
       "      <th>3</th>\n",
       "      <td>Palmeiras</td>\n",
       "      <td>20</td>\n",
       "      <td>32</td>\n",
       "    </tr>\n",
       "    <tr>\n",
       "      <th>4</th>\n",
       "      <td>Flamengo</td>\n",
       "      <td>25</td>\n",
       "      <td>40</td>\n",
       "    </tr>\n",
       "  </tbody>\n",
       "</table>\n",
       "</div>"
      ],
      "text/plain": [
       "          Time  Gols  Pontos\n",
       "0  Corinthians    10      30\n",
       "1    Palmeiras    15      28\n",
       "2  Corinthians     7      25\n",
       "3    Palmeiras    20      32\n",
       "4     Flamengo    25      40"
      ]
     },
     "execution_count": 20,
     "metadata": {},
     "output_type": "execute_result"
    }
   ],
   "source": [
    "df"
   ]
  },
  {
   "cell_type": "markdown",
   "id": "96956001-bba0-4b7e-a20e-3c7f3932cadd",
   "metadata": {},
   "source": [
    "Operações com a tabela"
   ]
  },
  {
   "cell_type": "code",
   "execution_count": 23,
   "id": "511af799-3a63-4859-9421-b2408a08bc9a",
   "metadata": {},
   "outputs": [],
   "source": [
    "df[\"Gols+Pontos\"] = df[\"Gols\"] + df[\"Pontos\"] # somou 2 colunas em uma nova coluna"
   ]
  },
  {
   "cell_type": "code",
   "execution_count": 24,
   "id": "d90cbec4-0535-48e1-9202-98bb3cf0c2c7",
   "metadata": {},
   "outputs": [
    {
     "data": {
      "text/html": [
       "<div>\n",
       "<style scoped>\n",
       "    .dataframe tbody tr th:only-of-type {\n",
       "        vertical-align: middle;\n",
       "    }\n",
       "\n",
       "    .dataframe tbody tr th {\n",
       "        vertical-align: top;\n",
       "    }\n",
       "\n",
       "    .dataframe thead th {\n",
       "        text-align: right;\n",
       "    }\n",
       "</style>\n",
       "<table border=\"1\" class=\"dataframe\">\n",
       "  <thead>\n",
       "    <tr style=\"text-align: right;\">\n",
       "      <th></th>\n",
       "      <th>Time</th>\n",
       "      <th>Gols</th>\n",
       "      <th>Pontos</th>\n",
       "      <th>Gols+Pontos</th>\n",
       "    </tr>\n",
       "  </thead>\n",
       "  <tbody>\n",
       "    <tr>\n",
       "      <th>0</th>\n",
       "      <td>Corinthians</td>\n",
       "      <td>10</td>\n",
       "      <td>30</td>\n",
       "      <td>40</td>\n",
       "    </tr>\n",
       "    <tr>\n",
       "      <th>1</th>\n",
       "      <td>Palmeiras</td>\n",
       "      <td>15</td>\n",
       "      <td>28</td>\n",
       "      <td>43</td>\n",
       "    </tr>\n",
       "    <tr>\n",
       "      <th>2</th>\n",
       "      <td>Corinthians</td>\n",
       "      <td>7</td>\n",
       "      <td>25</td>\n",
       "      <td>32</td>\n",
       "    </tr>\n",
       "    <tr>\n",
       "      <th>3</th>\n",
       "      <td>Palmeiras</td>\n",
       "      <td>20</td>\n",
       "      <td>32</td>\n",
       "      <td>52</td>\n",
       "    </tr>\n",
       "    <tr>\n",
       "      <th>4</th>\n",
       "      <td>Flamengo</td>\n",
       "      <td>25</td>\n",
       "      <td>40</td>\n",
       "      <td>65</td>\n",
       "    </tr>\n",
       "  </tbody>\n",
       "</table>\n",
       "</div>"
      ],
      "text/plain": [
       "          Time  Gols  Pontos  Gols+Pontos\n",
       "0  Corinthians    10      30           40\n",
       "1    Palmeiras    15      28           43\n",
       "2  Corinthians     7      25           32\n",
       "3    Palmeiras    20      32           52\n",
       "4     Flamengo    25      40           65"
      ]
     },
     "execution_count": 24,
     "metadata": {},
     "output_type": "execute_result"
    }
   ],
   "source": [
    "df"
   ]
  },
  {
   "cell_type": "code",
   "execution_count": 25,
   "id": "55728c88-efb1-4c0a-ae9e-6327b90a9c20",
   "metadata": {},
   "outputs": [],
   "source": [
    "df[\"Gols x2\"] = df[\"Gols\"] * 2 # multiplicou  coluna gols por 2 em uma nova coluna"
   ]
  },
  {
   "cell_type": "code",
   "execution_count": 26,
   "id": "5692d57f-e153-479c-9a09-07fb43b7a730",
   "metadata": {},
   "outputs": [
    {
     "data": {
      "text/html": [
       "<div>\n",
       "<style scoped>\n",
       "    .dataframe tbody tr th:only-of-type {\n",
       "        vertical-align: middle;\n",
       "    }\n",
       "\n",
       "    .dataframe tbody tr th {\n",
       "        vertical-align: top;\n",
       "    }\n",
       "\n",
       "    .dataframe thead th {\n",
       "        text-align: right;\n",
       "    }\n",
       "</style>\n",
       "<table border=\"1\" class=\"dataframe\">\n",
       "  <thead>\n",
       "    <tr style=\"text-align: right;\">\n",
       "      <th></th>\n",
       "      <th>Time</th>\n",
       "      <th>Gols</th>\n",
       "      <th>Pontos</th>\n",
       "      <th>Gols+Pontos</th>\n",
       "      <th>Gols x2</th>\n",
       "    </tr>\n",
       "  </thead>\n",
       "  <tbody>\n",
       "    <tr>\n",
       "      <th>0</th>\n",
       "      <td>Corinthians</td>\n",
       "      <td>10</td>\n",
       "      <td>30</td>\n",
       "      <td>40</td>\n",
       "      <td>20</td>\n",
       "    </tr>\n",
       "    <tr>\n",
       "      <th>1</th>\n",
       "      <td>Palmeiras</td>\n",
       "      <td>15</td>\n",
       "      <td>28</td>\n",
       "      <td>43</td>\n",
       "      <td>30</td>\n",
       "    </tr>\n",
       "    <tr>\n",
       "      <th>2</th>\n",
       "      <td>Corinthians</td>\n",
       "      <td>7</td>\n",
       "      <td>25</td>\n",
       "      <td>32</td>\n",
       "      <td>14</td>\n",
       "    </tr>\n",
       "    <tr>\n",
       "      <th>3</th>\n",
       "      <td>Palmeiras</td>\n",
       "      <td>20</td>\n",
       "      <td>32</td>\n",
       "      <td>52</td>\n",
       "      <td>40</td>\n",
       "    </tr>\n",
       "    <tr>\n",
       "      <th>4</th>\n",
       "      <td>Flamengo</td>\n",
       "      <td>25</td>\n",
       "      <td>40</td>\n",
       "      <td>65</td>\n",
       "      <td>50</td>\n",
       "    </tr>\n",
       "  </tbody>\n",
       "</table>\n",
       "</div>"
      ],
      "text/plain": [
       "          Time  Gols  Pontos  Gols+Pontos  Gols x2\n",
       "0  Corinthians    10      30           40       20\n",
       "1    Palmeiras    15      28           43       30\n",
       "2  Corinthians     7      25           32       14\n",
       "3    Palmeiras    20      32           52       40\n",
       "4     Flamengo    25      40           65       50"
      ]
     },
     "execution_count": 26,
     "metadata": {},
     "output_type": "execute_result"
    }
   ],
   "source": [
    "df"
   ]
  },
  {
   "cell_type": "code",
   "execution_count": 27,
   "id": "ad9bb7dd-27b3-4f93-a709-3e64e0219877",
   "metadata": {},
   "outputs": [],
   "source": [
    "group_sum = df.groupby(\"Time\").sum() # Agrupou a tabela pela coluna time, depois somou os valores de cada time duplicado"
   ]
  },
  {
   "cell_type": "code",
   "execution_count": 28,
   "id": "8eb8f1bb-61a0-4d92-8b47-312d8a1f5ecb",
   "metadata": {},
   "outputs": [
    {
     "data": {
      "text/html": [
       "<div>\n",
       "<style scoped>\n",
       "    .dataframe tbody tr th:only-of-type {\n",
       "        vertical-align: middle;\n",
       "    }\n",
       "\n",
       "    .dataframe tbody tr th {\n",
       "        vertical-align: top;\n",
       "    }\n",
       "\n",
       "    .dataframe thead th {\n",
       "        text-align: right;\n",
       "    }\n",
       "</style>\n",
       "<table border=\"1\" class=\"dataframe\">\n",
       "  <thead>\n",
       "    <tr style=\"text-align: right;\">\n",
       "      <th></th>\n",
       "      <th>Gols</th>\n",
       "      <th>Pontos</th>\n",
       "      <th>Gols+Pontos</th>\n",
       "      <th>Gols x2</th>\n",
       "    </tr>\n",
       "    <tr>\n",
       "      <th>Time</th>\n",
       "      <th></th>\n",
       "      <th></th>\n",
       "      <th></th>\n",
       "      <th></th>\n",
       "    </tr>\n",
       "  </thead>\n",
       "  <tbody>\n",
       "    <tr>\n",
       "      <th>Corinthians</th>\n",
       "      <td>17</td>\n",
       "      <td>55</td>\n",
       "      <td>72</td>\n",
       "      <td>34</td>\n",
       "    </tr>\n",
       "    <tr>\n",
       "      <th>Flamengo</th>\n",
       "      <td>25</td>\n",
       "      <td>40</td>\n",
       "      <td>65</td>\n",
       "      <td>50</td>\n",
       "    </tr>\n",
       "    <tr>\n",
       "      <th>Palmeiras</th>\n",
       "      <td>35</td>\n",
       "      <td>60</td>\n",
       "      <td>95</td>\n",
       "      <td>70</td>\n",
       "    </tr>\n",
       "  </tbody>\n",
       "</table>\n",
       "</div>"
      ],
      "text/plain": [
       "             Gols  Pontos  Gols+Pontos  Gols x2\n",
       "Time                                           \n",
       "Corinthians    17      55           72       34\n",
       "Flamengo       25      40           65       50\n",
       "Palmeiras      35      60           95       70"
      ]
     },
     "execution_count": 28,
     "metadata": {},
     "output_type": "execute_result"
    }
   ],
   "source": [
    "group_sum"
   ]
  },
  {
   "cell_type": "code",
   "execution_count": 30,
   "id": "aa35a74e-9297-45fd-86fc-7a0a3fa9a926",
   "metadata": {},
   "outputs": [],
   "source": [
    "group_mean = df.groupby(\"Time\")[\"Gols\"].mean() # agrupou pela coluna time e mostrou a média dos gols de cada time no caso dividiu pela quantidade de nome"
   ]
  },
  {
   "cell_type": "code",
   "execution_count": 31,
   "id": "bb4ef8f2-44f6-4ade-8ba7-20de0786088b",
   "metadata": {},
   "outputs": [
    {
     "data": {
      "text/plain": [
       "Time\n",
       "Corinthians     8.5\n",
       "Flamengo       25.0\n",
       "Palmeiras      17.5\n",
       "Name: Gols, dtype: float64"
      ]
     },
     "execution_count": 31,
     "metadata": {},
     "output_type": "execute_result"
    }
   ],
   "source": [
    "group_mean"
   ]
  },
  {
   "cell_type": "code",
   "execution_count": 32,
   "id": "71769f78-4550-48b2-9a05-522d52245cc5",
   "metadata": {},
   "outputs": [],
   "source": [
    "group_desc = df.groupby(\"Time\").describe() # agrupa pela coluna time e calcula estatísticas descritivas para cada grupo"
   ]
  },
  {
   "cell_type": "code",
   "execution_count": 33,
   "id": "85a64e51-bb18-495b-8402-820ac994685c",
   "metadata": {},
   "outputs": [
    {
     "data": {
      "text/html": [
       "<div>\n",
       "<style scoped>\n",
       "    .dataframe tbody tr th:only-of-type {\n",
       "        vertical-align: middle;\n",
       "    }\n",
       "\n",
       "    .dataframe tbody tr th {\n",
       "        vertical-align: top;\n",
       "    }\n",
       "\n",
       "    .dataframe thead tr th {\n",
       "        text-align: left;\n",
       "    }\n",
       "\n",
       "    .dataframe thead tr:last-of-type th {\n",
       "        text-align: right;\n",
       "    }\n",
       "</style>\n",
       "<table border=\"1\" class=\"dataframe\">\n",
       "  <thead>\n",
       "    <tr>\n",
       "      <th></th>\n",
       "      <th colspan=\"8\" halign=\"left\">Gols</th>\n",
       "      <th colspan=\"2\" halign=\"left\">Pontos</th>\n",
       "      <th>...</th>\n",
       "      <th colspan=\"2\" halign=\"left\">Gols+Pontos</th>\n",
       "      <th colspan=\"8\" halign=\"left\">Gols x2</th>\n",
       "    </tr>\n",
       "    <tr>\n",
       "      <th></th>\n",
       "      <th>count</th>\n",
       "      <th>mean</th>\n",
       "      <th>std</th>\n",
       "      <th>min</th>\n",
       "      <th>25%</th>\n",
       "      <th>50%</th>\n",
       "      <th>75%</th>\n",
       "      <th>max</th>\n",
       "      <th>count</th>\n",
       "      <th>mean</th>\n",
       "      <th>...</th>\n",
       "      <th>75%</th>\n",
       "      <th>max</th>\n",
       "      <th>count</th>\n",
       "      <th>mean</th>\n",
       "      <th>std</th>\n",
       "      <th>min</th>\n",
       "      <th>25%</th>\n",
       "      <th>50%</th>\n",
       "      <th>75%</th>\n",
       "      <th>max</th>\n",
       "    </tr>\n",
       "    <tr>\n",
       "      <th>Time</th>\n",
       "      <th></th>\n",
       "      <th></th>\n",
       "      <th></th>\n",
       "      <th></th>\n",
       "      <th></th>\n",
       "      <th></th>\n",
       "      <th></th>\n",
       "      <th></th>\n",
       "      <th></th>\n",
       "      <th></th>\n",
       "      <th></th>\n",
       "      <th></th>\n",
       "      <th></th>\n",
       "      <th></th>\n",
       "      <th></th>\n",
       "      <th></th>\n",
       "      <th></th>\n",
       "      <th></th>\n",
       "      <th></th>\n",
       "      <th></th>\n",
       "      <th></th>\n",
       "    </tr>\n",
       "  </thead>\n",
       "  <tbody>\n",
       "    <tr>\n",
       "      <th>Corinthians</th>\n",
       "      <td>2.0</td>\n",
       "      <td>8.5</td>\n",
       "      <td>2.121320</td>\n",
       "      <td>7.0</td>\n",
       "      <td>7.75</td>\n",
       "      <td>8.5</td>\n",
       "      <td>9.25</td>\n",
       "      <td>10.0</td>\n",
       "      <td>2.0</td>\n",
       "      <td>27.5</td>\n",
       "      <td>...</td>\n",
       "      <td>38.00</td>\n",
       "      <td>40.0</td>\n",
       "      <td>2.0</td>\n",
       "      <td>17.0</td>\n",
       "      <td>4.242641</td>\n",
       "      <td>14.0</td>\n",
       "      <td>15.5</td>\n",
       "      <td>17.0</td>\n",
       "      <td>18.5</td>\n",
       "      <td>20.0</td>\n",
       "    </tr>\n",
       "    <tr>\n",
       "      <th>Flamengo</th>\n",
       "      <td>1.0</td>\n",
       "      <td>25.0</td>\n",
       "      <td>NaN</td>\n",
       "      <td>25.0</td>\n",
       "      <td>25.00</td>\n",
       "      <td>25.0</td>\n",
       "      <td>25.00</td>\n",
       "      <td>25.0</td>\n",
       "      <td>1.0</td>\n",
       "      <td>40.0</td>\n",
       "      <td>...</td>\n",
       "      <td>65.00</td>\n",
       "      <td>65.0</td>\n",
       "      <td>1.0</td>\n",
       "      <td>50.0</td>\n",
       "      <td>NaN</td>\n",
       "      <td>50.0</td>\n",
       "      <td>50.0</td>\n",
       "      <td>50.0</td>\n",
       "      <td>50.0</td>\n",
       "      <td>50.0</td>\n",
       "    </tr>\n",
       "    <tr>\n",
       "      <th>Palmeiras</th>\n",
       "      <td>2.0</td>\n",
       "      <td>17.5</td>\n",
       "      <td>3.535534</td>\n",
       "      <td>15.0</td>\n",
       "      <td>16.25</td>\n",
       "      <td>17.5</td>\n",
       "      <td>18.75</td>\n",
       "      <td>20.0</td>\n",
       "      <td>2.0</td>\n",
       "      <td>30.0</td>\n",
       "      <td>...</td>\n",
       "      <td>49.75</td>\n",
       "      <td>52.0</td>\n",
       "      <td>2.0</td>\n",
       "      <td>35.0</td>\n",
       "      <td>7.071068</td>\n",
       "      <td>30.0</td>\n",
       "      <td>32.5</td>\n",
       "      <td>35.0</td>\n",
       "      <td>37.5</td>\n",
       "      <td>40.0</td>\n",
       "    </tr>\n",
       "  </tbody>\n",
       "</table>\n",
       "<p>3 rows × 32 columns</p>\n",
       "</div>"
      ],
      "text/plain": [
       "             Gols                                                 Pontos  \\\n",
       "            count  mean       std   min    25%   50%    75%   max  count   \n",
       "Time                                                                       \n",
       "Corinthians   2.0   8.5  2.121320   7.0   7.75   8.5   9.25  10.0    2.0   \n",
       "Flamengo      1.0  25.0       NaN  25.0  25.00  25.0  25.00  25.0    1.0   \n",
       "Palmeiras     2.0  17.5  3.535534  15.0  16.25  17.5  18.75  20.0    2.0   \n",
       "\n",
       "                   ... Gols+Pontos       Gols x2                              \\\n",
       "             mean  ...         75%   max   count  mean       std   min   25%   \n",
       "Time               ...                                                         \n",
       "Corinthians  27.5  ...       38.00  40.0     2.0  17.0  4.242641  14.0  15.5   \n",
       "Flamengo     40.0  ...       65.00  65.0     1.0  50.0       NaN  50.0  50.0   \n",
       "Palmeiras    30.0  ...       49.75  52.0     2.0  35.0  7.071068  30.0  32.5   \n",
       "\n",
       "                               \n",
       "              50%   75%   max  \n",
       "Time                           \n",
       "Corinthians  17.0  18.5  20.0  \n",
       "Flamengo     50.0  50.0  50.0  \n",
       "Palmeiras    35.0  37.5  40.0  \n",
       "\n",
       "[3 rows x 32 columns]"
      ]
     },
     "execution_count": 33,
     "metadata": {},
     "output_type": "execute_result"
    }
   ],
   "source": [
    "group_desc"
   ]
  },
  {
   "cell_type": "code",
   "execution_count": null,
   "id": "d612e305-28da-47e6-9626-0da767cf324c",
   "metadata": {},
   "outputs": [],
   "source": []
  }
 ],
 "metadata": {
  "kernelspec": {
   "display_name": "Python 3 (ipykernel)",
   "language": "python",
   "name": "python3"
  },
  "language_info": {
   "codemirror_mode": {
    "name": "ipython",
    "version": 3
   },
   "file_extension": ".py",
   "mimetype": "text/x-python",
   "name": "python",
   "nbconvert_exporter": "python",
   "pygments_lexer": "ipython3",
   "version": "3.12.7"
  }
 },
 "nbformat": 4,
 "nbformat_minor": 5
}
