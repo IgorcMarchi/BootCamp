{
 "cells": [
  {
   "cell_type": "code",
   "execution_count": 1,
   "id": "32992d3f-afa6-4d8c-9c04-9dc3d89bbf0d",
   "metadata": {},
   "outputs": [
    {
     "data": {
      "image/png": "[encoded data removed]",
      "text/plain": [
       "<Figure size 640x480 with 1 Axes>"
      ]
     },
     "metadata": {},
     "output_type": "display_data"
    }
   ],
   "source": [
    "import numpy as np \n",
    "import matplotlib.pyplot as plt\n",
    "vals = np.random.normal(0, 0.5, 10000)\n",
    "\n",
    "plt.hist(vals, 50)\n",
    "plt.show()"
   ]
  },
  {
   "cell_type": "code",
   "execution_count": 4,
   "id": "d30b0b48-ec11-4fff-993f-8a51001bc076",
   "metadata": {},
   "outputs": [
    {
     "data": {
      "text/plain": [
       "0.010456501977953073"
      ]
     },
     "execution_count": 4,
     "metadata": {},
     "output_type": "execute_result"
    }
   ],
   "source": [
    "np.percentile(vals, 50)"
   ]
  },
  {
   "cell_type": "code",
   "execution_count": 5,
   "id": "b2b2692e-ed57-4cfa-861a-25b29661b996",
   "metadata": {},
   "outputs": [
    {
     "data": {
      "text/plain": [
       "0.6327738023654492"
      ]
     },
     "execution_count": 5,
     "metadata": {},
     "output_type": "execute_result"
    }
   ],
   "source": [
    "np.percentile(vals, 90)"
   ]
  },
  {
   "cell_type": "code",
   "execution_count": 7,
   "id": "6b6d358b-20c1-48db-b427-b7fad469689f",
   "metadata": {},
   "outputs": [
    {
     "data": {
      "text/plain": [
       "-0.4181191352588024"
      ]
     },
     "execution_count": 7,
     "metadata": {},
     "output_type": "execute_result"
    }
   ],
   "source": [
    "np.percentile(vals, 20)"
   ]
  },
  {
   "cell_type": "code",
   "execution_count": 8,
   "id": "896ca3e4-de8b-4b61-8bf5-797ae94eab2c",
   "metadata": {},
   "outputs": [
    {
     "data": {
      "text/plain": [
       "1.1555702046095522"
      ]
     },
     "execution_count": 8,
     "metadata": {},
     "output_type": "execute_result"
    }
   ],
   "source": [
    "np.percentile(vals, 99)"
   ]
  },
  {
   "cell_type": "markdown",
   "id": "87f16ff2-d43a-47b3-b681-948c1964f61d",
   "metadata": {},
   "source": [
    "## Primeiro momento"
   ]
  },
  {
   "cell_type": "code",
   "execution_count": 12,
   "id": "0b084c26-d78e-4d06-80c2-241dcb39da2b",
   "metadata": {},
   "outputs": [
    {
     "data": {
      "text/plain": [
       "0.0029649363281235713"
      ]
     },
     "execution_count": 12,
     "metadata": {},
     "output_type": "execute_result"
    }
   ],
   "source": [
    "np.mean(vals) # media"
   ]
  },
  {
   "cell_type": "markdown",
   "id": "caaa89ac-5198-4b30-b1fa-501a3b5816bc",
   "metadata": {},
   "source": [
    "## Segundo momento"
   ]
  },
  {
   "cell_type": "code",
   "execution_count": 14,
   "id": "951ab576-fa18-468a-affe-50fcdcfeba13",
   "metadata": {},
   "outputs": [
    {
     "data": {
      "text/plain": [
       "0.2492531715670991"
      ]
     },
     "execution_count": 14,
     "metadata": {},
     "output_type": "execute_result"
    }
   ],
   "source": [
    "np.var(vals) # Variancia elevado a 2"
   ]
  },
  {
   "cell_type": "markdown",
   "id": "6c3edbec-09b9-4baa-82c0-3c0b9b848110",
   "metadata": {},
   "source": [
    "## Terceiro momento"
   ]
  },
  {
   "cell_type": "code",
   "execution_count": 15,
   "id": "170d83bd-e296-4327-b263-acf2b72b4852",
   "metadata": {},
   "outputs": [
    {
     "data": {
      "text/plain": [
       "-0.04642841799103565"
      ]
     },
     "execution_count": 15,
     "metadata": {},
     "output_type": "execute_result"
    }
   ],
   "source": [
    "import scipy.stats as sp\n",
    "sp.skew(vals) # assimetria"
   ]
  },
  {
   "cell_type": "markdown",
   "id": "55b82555-9309-4472-b4bf-18d635190993",
   "metadata": {},
   "source": [
    "## Quarto momento"
   ]
  },
  {
   "cell_type": "code",
   "execution_count": 17,
   "id": "2b990151-a60c-48b8-bfab-13da0307001e",
   "metadata": {},
   "outputs": [
    {
     "data": {
      "text/plain": [
       "-0.02750102384880515"
      ]
     },
     "execution_count": 17,
     "metadata": {},
     "output_type": "execute_result"
    }
   ],
   "source": [
    "sp.kurtosis(vals) #distribuicao normal"
   ]
  },
  {
   "cell_type": "code",
   "execution_count": null,
   "id": "968ce381-052a-40b5-9cd0-d2dcaab3c35d",
   "metadata": {},
   "outputs": [],
   "source": []
  }
 ],
 "metadata": {
  "kernelspec": {
   "display_name": "Python 3 (ipykernel)",
   "language": "python",
   "name": "python3"
  },
  "language_info": {
   "codemirror_mode": {
    "name": "ipython",
    "version": 3
   },
   "file_extension": ".py",
   "mimetype": "text/x-python",
   "name": "python",
   "nbconvert_exporter": "python",
   "pygments_lexer": "ipython3",
   "version": "3.12.7"
  }
 },
 "nbformat": 4,
 "nbformat_minor": 5
}
