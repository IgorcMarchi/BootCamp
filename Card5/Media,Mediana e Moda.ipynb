{
 "cells": [
  {
   "cell_type": "code",
   "execution_count": 2,
   "id": "9d88bf8f-f3ce-4534-b5e0-e3e38a68450b",
   "metadata": {},
   "outputs": [
    {
     "data": {
      "text/plain": [
       "26993.095136098134"
      ]
     },
     "execution_count": 2,
     "metadata": {},
     "output_type": "execute_result"
    }
   ],
   "source": [
    "import numpy as np\n",
    "incomes = np.random.normal(27000, 15000, 10000)\n",
    "np.mean(incomes)"
   ]
  },
  {
   "cell_type": "code",
   "execution_count": 4,
   "id": "7389d8eb-7c27-4f9d-b38a-5fdf6887e4cb",
   "metadata": {},
   "outputs": [
    {
     "data": {
      "image/png": "[encoded data removed]",
      "text/plain": [
       "<Figure size 640x480 with 1 Axes>"
      ]
     },
     "metadata": {},
     "output_type": "display_data"
    }
   ],
   "source": [
    "%matplotlib inline\n",
    "import matplotlib.pyplot as plt\n",
    "plt.hist(incomes, 50)\n",
    "plt.show()"
   ]
  },
  {
   "cell_type": "code",
   "execution_count": 5,
   "id": "189d93e9-d40d-44c6-a88f-a8046af4a8cd",
   "metadata": {},
   "outputs": [
    {
     "data": {
      "text/plain": [
       "27064.916213427605"
      ]
     },
     "execution_count": 5,
     "metadata": {},
     "output_type": "execute_result"
    }
   ],
   "source": [
    "np.median(incomes)"
   ]
  },
  {
   "cell_type": "code",
   "execution_count": 6,
   "id": "e539cc92-d487-496b-baa7-f468e3dd35ce",
   "metadata": {},
   "outputs": [],
   "source": [
    "incomes = np.append(incomes, [1000000000])"
   ]
  },
  {
   "cell_type": "code",
   "execution_count": 7,
   "id": "137801b9-04de-42f5-90c4-c19cc35b8f78",
   "metadata": {},
   "outputs": [
    {
     "data": {
      "text/plain": [
       "27065.52025586698"
      ]
     },
     "execution_count": 7,
     "metadata": {},
     "output_type": "execute_result"
    }
   ],
   "source": [
    "np.median(incomes)"
   ]
  },
  {
   "cell_type": "code",
   "execution_count": 8,
   "id": "50fef454-441c-4278-bbe2-30c00febd519",
   "metadata": {},
   "outputs": [
    {
     "data": {
      "text/plain": [
       "126980.39709638848"
      ]
     },
     "execution_count": 8,
     "metadata": {},
     "output_type": "execute_result"
    }
   ],
   "source": [
    "np.mean(incomes)"
   ]
  },
  {
   "cell_type": "code",
   "execution_count": 12,
   "id": "2592b5fb-520d-47d9-8628-759aaf7f9f22",
   "metadata": {},
   "outputs": [
    {
     "data": {
      "text/plain": [
       "array([23, 85, 55, 80, 68, 57, 78, 19, 69, 55, 43, 74, 76, 26, 75, 77, 88,\n",
       "       88, 27, 35, 53, 80, 44, 77, 57, 83, 45, 20, 61, 69, 26, 70, 39, 24,\n",
       "       59, 28, 71, 84, 75, 81, 60, 66, 58, 87, 20, 31, 60, 44, 34, 26, 36,\n",
       "       47, 18, 65, 70, 41, 71, 46, 43, 31, 72, 47, 71, 89, 76, 58, 25, 72,\n",
       "       52, 38, 85, 77, 64, 62, 57, 65, 80, 55, 73, 88, 69, 46, 85, 85, 73,\n",
       "       76, 35, 88, 27, 50, 42, 36, 58, 20, 33, 40, 85, 71, 55, 23, 30, 68,\n",
       "       35, 66, 38, 72, 48, 37, 41, 25, 68, 41, 67, 57, 32, 39, 29, 31, 29,\n",
       "       28, 22, 46, 88, 86, 41, 67, 79, 36, 62, 66, 39, 43, 44, 77, 84, 86,\n",
       "       76, 22, 50, 27, 80, 24, 82, 70, 79, 20, 80, 63, 47, 85, 60, 24, 61,\n",
       "       40, 86, 62, 33, 68, 74, 34, 58, 81, 44, 23, 30, 44, 26, 42, 45, 46,\n",
       "       20, 81, 43, 24, 46, 74, 59, 59, 46, 32, 22, 89, 29, 78, 89, 26, 68,\n",
       "       37, 43, 32, 51, 38, 50, 28, 58, 68, 52, 88, 85, 35, 71, 29, 24, 50,\n",
       "       38, 71, 41, 18, 60, 54, 24, 77, 86, 71, 63, 78, 44, 88, 28, 52, 84,\n",
       "       70, 33, 77, 18, 56, 46, 60, 76, 84, 54, 79, 50, 49, 28, 77, 30, 37,\n",
       "       44, 82, 70, 52, 40, 47, 29, 68, 36, 52, 60, 86, 18, 36, 70, 42, 21,\n",
       "       35, 46, 37, 32, 46, 43, 55, 45, 56, 45, 60, 55, 37, 26, 20, 71, 66,\n",
       "       38, 41, 38, 50, 40, 38, 67, 38, 81, 82, 50, 24, 38, 75, 56, 86, 36,\n",
       "       29, 65, 29, 82, 34, 24, 79, 41, 44, 81, 79, 33, 40, 76, 75, 42, 27,\n",
       "       26, 66, 18, 63, 77, 25, 45, 84, 48, 50, 40, 42, 32, 50, 39, 56, 86,\n",
       "       65, 87, 88, 62, 81, 58, 77, 24, 82, 88, 70, 36, 54, 77, 38, 20, 54,\n",
       "       36, 56, 22, 40, 41, 69, 46, 55, 80, 53, 33, 58, 53, 21, 73, 35, 47,\n",
       "       83, 71, 80, 19, 77, 49, 45, 24, 45, 35, 59, 47, 51, 25, 72, 34, 64,\n",
       "       60, 23, 78, 69, 24, 81, 33, 49, 61, 38, 29, 78, 84, 54, 53, 24, 63,\n",
       "       25, 37, 18, 69, 37, 66, 86, 86, 82, 81, 65, 20, 53, 53, 31, 47, 23,\n",
       "       37, 62, 83, 38, 83, 59, 87, 87, 28, 27, 23, 51, 42, 37, 70, 40, 42,\n",
       "       35, 89, 64, 75, 62, 88, 78, 45, 83, 19, 51, 33, 40, 53, 51, 47, 68,\n",
       "       63, 28, 82, 69, 83, 28, 65, 79, 77, 65, 41, 57, 67, 35, 60, 22, 45,\n",
       "       34, 57, 44, 87, 78, 65, 72, 84, 66, 51, 19, 72, 24, 42, 76, 83, 18,\n",
       "       77, 21, 63, 24, 34, 22, 34, 82, 35, 50, 26, 63, 32, 38, 36, 39, 51,\n",
       "       27, 83, 51, 41, 88, 74, 35])"
      ]
     },
     "execution_count": 12,
     "metadata": {},
     "output_type": "execute_result"
    }
   ],
   "source": [
    "ages = np.random.randint(18, high=90, size=500)\n",
    "ages"
   ]
  },
  {
   "cell_type": "code",
   "execution_count": 13,
   "id": "80bca05f-81a1-4512-8503-b08193f27f41",
   "metadata": {},
   "outputs": [
    {
     "data": {
      "text/plain": [
       "ModeResult(mode=24, count=14)"
      ]
     },
     "execution_count": 13,
     "metadata": {},
     "output_type": "execute_result"
    }
   ],
   "source": [
    "from scipy import stats\n",
    "stats.mode(ages)"
   ]
  },
  {
   "cell_type": "code",
   "execution_count": 14,
   "id": "e0bb86ff-fc8b-4941-9745-7c4b90d4ba49",
   "metadata": {},
   "outputs": [
    {
     "data": {
      "image/png": "[encoded data removed]",
      "text/plain": [
       "<Figure size 640x480 with 1 Axes>"
      ]
     },
     "metadata": {},
     "output_type": "display_data"
    }
   ],
   "source": [
    "vetor = np.random.normal(100.00, 20.00, 10000)\n",
    "plt.hist(vetor, 50)\n",
    "plt.show()"
   ]
  },
  {
   "cell_type": "code",
   "execution_count": 15,
   "id": "c1bfad5d-a9ca-40cf-b585-b4022e9ab301",
   "metadata": {},
   "outputs": [
    {
     "data": {
      "text/plain": [
       "99.69150934591781"
      ]
     },
     "execution_count": 15,
     "metadata": {},
     "output_type": "execute_result"
    }
   ],
   "source": [
    "np.median(vetor)"
   ]
  },
  {
   "cell_type": "code",
   "execution_count": 16,
   "id": "65818f0e-44e1-4c1f-ac4a-d2e1a033dec2",
   "metadata": {},
   "outputs": [
    {
     "data": {
      "text/plain": [
       "99.67492802473974"
      ]
     },
     "execution_count": 16,
     "metadata": {},
     "output_type": "execute_result"
    }
   ],
   "source": [
    "np.mean(vetor)"
   ]
  },
  {
   "cell_type": "code",
   "execution_count": 17,
   "id": "0929a5f8-47e0-4e19-a98f-42478065ec7f",
   "metadata": {},
   "outputs": [],
   "source": [
    "vetor = np.append(vetor, [1000000000])"
   ]
  },
  {
   "cell_type": "code",
   "execution_count": 19,
   "id": "bb528ea3-e5b1-4b8b-9a52-8bbc7dd5bbfb",
   "metadata": {},
   "outputs": [
    {
     "data": {
      "text/plain": [
       "99.69364087237246"
      ]
     },
     "execution_count": 19,
     "metadata": {},
     "output_type": "execute_result"
    }
   ],
   "source": [
    "np.median(vetor)"
   ]
  },
  {
   "cell_type": "code",
   "execution_count": 20,
   "id": "6802fb8a-7b56-43af-95e1-22cf51c1a843",
   "metadata": {},
   "outputs": [
    {
     "data": {
      "text/plain": [
       "100089.66596142859"
      ]
     },
     "execution_count": 20,
     "metadata": {},
     "output_type": "execute_result"
    }
   ],
   "source": [
    "np.mean(vetor)"
   ]
  },
  {
   "cell_type": "code",
   "execution_count": null,
   "id": "e1e500f2-d26d-47c3-bb89-d0cc01ac694c",
   "metadata": {},
   "outputs": [],
   "source": []
  }
 ],
 "metadata": {
  "kernelspec": {
   "display_name": "Python 3 (ipykernel)",
   "language": "python",
   "name": "python3"
  },
  "language_info": {
   "codemirror_mode": {
    "name": "ipython",
    "version": 3
   },
   "file_extension": ".py",
   "mimetype": "text/x-python",
   "name": "python",
   "nbconvert_exporter": "python",
   "pygments_lexer": "ipython3",
   "version": "3.12.7"
  }
 },
 "nbformat": 4,
 "nbformat_minor": 5
}
