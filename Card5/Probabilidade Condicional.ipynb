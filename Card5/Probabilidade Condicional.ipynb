{
 "cells": [
  {
   "cell_type": "code",
   "execution_count": 2,
   "id": "c53f4186-5281-4c70-97c1-fa46d2a582fb",
   "metadata": {},
   "outputs": [],
   "source": [
    "from numpy import random\n",
    "random.seed(0)\n",
    "\n",
    "totals = {20:0, 30:0, 40:0, 50:0, 60:0, 70:0}\n",
    "purchases = {20:0, 30:0, 40:0, 50:0, 60:0, 70:0}\n",
    "totalPurchases = 0\n",
    "for _ in range(100000):\n",
    "    ageDecade = random.choice([20, 30, 40, 50, 60, 70])\n",
    "    purchaseProbability = float(ageDecade) / 100.0\n",
    "    totals[ageDecade] += 1\n",
    "    if (random.random() < purchaseProbability):\n",
    "        totalPurchases += 1\n",
    "        purchases[ageDecade] += 1"
   ]
  },
  {
   "cell_type": "code",
   "execution_count": 3,
   "id": "e467934c-0edd-4ed4-8abc-107bdee3a758",
   "metadata": {},
   "outputs": [
    {
     "data": {
      "text/plain": [
       "{20: 16576, 30: 16619, 40: 16632, 50: 16805, 60: 16664, 70: 16704}"
      ]
     },
     "execution_count": 3,
     "metadata": {},
     "output_type": "execute_result"
    }
   ],
   "source": [
    "totals"
   ]
  },
  {
   "cell_type": "code",
   "execution_count": 15,
   "id": "1af6445b-2dc0-4558-8f0d-5df71bb11a4b",
   "metadata": {},
   "outputs": [
    {
     "data": {
      "text/plain": [
       "{20: 3392, 30: 4974, 40: 6670, 50: 8319, 60: 9944, 70: 11713}"
      ]
     },
     "execution_count": 15,
     "metadata": {},
     "output_type": "execute_result"
    }
   ],
   "source": [
    "purchases"
   ]
  },
  {
   "cell_type": "code",
   "execution_count": 16,
   "id": "20f9536d-67be-4f75-91e8-cfade781972a",
   "metadata": {},
   "outputs": [
    {
     "data": {
      "text/plain": [
       "45012"
      ]
     },
     "execution_count": 16,
     "metadata": {},
     "output_type": "execute_result"
    }
   ],
   "source": [
    "totalPurchases"
   ]
  },
  {
   "cell_type": "code",
   "execution_count": 17,
   "id": "72cddcdf-c38d-46cc-a105-70922f84b805",
   "metadata": {},
   "outputs": [
    {
     "name": "stdout",
     "output_type": "stream",
     "text": [
      "P(purchase | 30s): 0.29929598652145134\n"
     ]
    }
   ],
   "source": [
    "PEF = float(purchases[30]) / float(totals[30])\n",
    "print('P(purchase | 30s): ' + str(PEF))"
   ]
  },
  {
   "cell_type": "code",
   "execution_count": 18,
   "id": "c428a6da-b4d5-418d-a063-8527eb96da68",
   "metadata": {},
   "outputs": [
    {
     "name": "stdout",
     "output_type": "stream",
     "text": [
      "P(30's): 0.16619\n"
     ]
    }
   ],
   "source": [
    "PF = float(totals[30]) / 100000.0\n",
    "print(\"P(30's): \" +  str(PF))"
   ]
  },
  {
   "cell_type": "code",
   "execution_count": 19,
   "id": "1dbc7809-33ce-448d-afad-1251af885445",
   "metadata": {},
   "outputs": [
    {
     "name": "stdout",
     "output_type": "stream",
     "text": [
      "P(Purchase):0.45012\n"
     ]
    }
   ],
   "source": [
    "PE = float(totalPurchases) / 100000.0\n",
    "print(\"P(Purchase):\" + str(PE))"
   ]
  },
  {
   "cell_type": "code",
   "execution_count": 20,
   "id": "ab776e89-4203-40ed-9bc2-b2ee528898ee",
   "metadata": {},
   "outputs": [
    {
     "name": "stdout",
     "output_type": "stream",
     "text": [
      "P(30's, Purchase)0.04974\n"
     ]
    }
   ],
   "source": [
    "print(\"P(30's, Purchase)\" + str(float(purchases[30]) / 100000.0))"
   ]
  },
  {
   "cell_type": "code",
   "execution_count": 21,
   "id": "044ff221-fdc2-4a27-ac96-cc3a947cede0",
   "metadata": {},
   "outputs": [
    {
     "name": "stdout",
     "output_type": "stream",
     "text": [
      "P(30's)P(Purchase)0.07480544280000001\n"
     ]
    }
   ],
   "source": [
    "print(\"P(30's)P(Purchase)\" + str(PE * PF))"
   ]
  },
  {
   "cell_type": "code",
   "execution_count": null,
   "id": "b7d21124-9340-4f35-a6fa-83db8810d685",
   "metadata": {},
   "outputs": [],
   "source": []
  }
 ],
 "metadata": {
  "kernelspec": {
   "display_name": "Python 3 (ipykernel)",
   "language": "python",
   "name": "python3"
  },
  "language_info": {
   "codemirror_mode": {
    "name": "ipython",
    "version": 3
   },
   "file_extension": ".py",
   "mimetype": "text/x-python",
   "name": "python",
   "nbconvert_exporter": "python",
   "pygments_lexer": "ipython3",
   "version": "3.12.7"
  }
 },
 "nbformat": 4,
 "nbformat_minor": 5
}
